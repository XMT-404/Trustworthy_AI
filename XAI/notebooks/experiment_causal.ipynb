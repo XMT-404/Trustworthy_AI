{
 "cells": [
  {
   "cell_type": "code",
   "id": "4a967d92-cb58-4da9-8693-d4b0053577d0",
   "metadata": {
    "ExecuteTime": {
     "end_time": "2025-06-08T17:35:46.919919Z",
     "start_time": "2025-06-08T17:35:46.913264Z"
    }
   },
   "source": [
    "from gmpy2.gmpy2 import random_state\n",
    "\n",
    "# Quick Start: Causal Analysis\n",
    "'''\n",
    "This notebook demonstrates:\n",
    "1. Load & clean data\n",
    "2. Feature selection (IAMB)\n",
    "3. Causal discovery (PC)\n",
    "4. Effect estimation (ATE)\n",
    "5. Visualization (DAG)\n",
    "'''"
   ],
   "outputs": [
    {
     "data": {
      "text/plain": [
       "'\\nThis notebook demonstrates:\\n1. Load & clean data\\n2. Feature selection (IAMB)\\n3. Causal discovery (PC)\\n4. Effect estimation (ATE)\\n5. Visualization (DAG)\\n'"
      ]
     },
     "execution_count": 1,
     "metadata": {},
     "output_type": "execute_result"
    }
   ],
   "execution_count": 1
  },
  {
   "cell_type": "code",
   "id": "61dc89c6-aae4-4227-b7b7-e220b8e2f3db",
   "metadata": {
    "ExecuteTime": {
     "end_time": "2025-06-08T18:46:02.378165Z",
     "start_time": "2025-06-08T18:46:02.374389Z"
    }
   },
   "source": [
    "import sys, os\n",
    "\n",
    "# 1. Compute project root: one level up from the notebook folder\n",
    "proj_root = os.path.abspath(os.path.join(os.getcwd(), os.pardir))\n",
    "\n",
    "# 2. Prepend it to sys.path\n",
    "if proj_root not in sys.path:\n",
    "    sys.path.insert(0, proj_root)"
   ],
   "outputs": [],
   "execution_count": 1
  },
  {
   "cell_type": "code",
   "id": "2cd317df-c995-45d8-b948-c135499060dc",
   "metadata": {
    "ExecuteTime": {
     "end_time": "2025-06-08T18:46:04.888101Z",
     "start_time": "2025-06-08T18:46:03.558520Z"
    }
   },
   "source": [
    "import pandas as pd\n",
    "from causallearn.utils.cit import kci\n",
    "from causal import preprocess\n",
    "from causal import restriction\n",
    "from causal import causal_discovery as cd\n",
    "from causal import identifier as ide\n",
    "from causal import visualization as vis\n",
    "from causal import utils\n",
    "from causallearn.search.FCMBased.lingam.utils import make_dot\n",
    "from causallearn.search.FCMBased import lingam\n",
    "from dowhy import CausalModel\n",
    "from causallearn.utils.GraphUtils import GraphUtils"
   ],
   "outputs": [],
   "execution_count": 2
  },
  {
   "cell_type": "code",
   "id": "4e07adb55ff73b06",
   "metadata": {
    "ExecuteTime": {
     "end_time": "2025-06-08T18:56:28.054655Z",
     "start_time": "2025-06-08T18:56:27.063535Z"
    }
   },
   "source": [
    "if __name__ == '__main__':\n",
    "\n",
    "    '''\n",
    "    1. Data Loading and Preprocessing\n",
    "    '''\n",
    "\n",
    "    path = '../Dataset/veremi_extension_simple.csv'\n",
    "    data_origin = pd.read_csv(path)\n",
    "    print(f'total:{data_origin.shape}')\n",
    "    # print(data_origin)\n",
    "\n",
    "    # filter Ddos and normal data\n",
    "    # data_origin = data_origin[data_origin['class'].isin([0, 11, 12, 13, 16, 17])]\n",
    "\n",
    "    # filter fake data attack and normal data\n",
    "    data_origin = data_origin[data_origin['class'].isin([0, 1, 2, 3, 4, 5, 6, 7, 8])]\n",
    "\n",
    "    # filter sybil attack and normal data\n",
    "    # data_origin = data_origin[data_origin['class'].isin([0, 14, 15, 16, 17])]\n",
    "    # print(data_origin.head(5))\n",
    "\n",
    "    # filter sybil disruptive/data reply and normal data\n",
    "    # data_origin = data_origin[data_origin['class'].isin([0, 10])]\n",
    "    # print(data_origin.head(5))\n",
    "\n",
    "    data_origin = utils.collapse_classes(data_origin, 1)\n",
    "    print(data_origin[data_origin['class'] == 1].shape)\n",
    "\n",
    "    data_origin = utils.min_sample_retention(data_origin, test_size = 20000, random_state=42)\n",
    "    # print(data_origin)\n",
    "\n",
    "    print(data_origin[data_origin['class'] == 1].shape)\n",
    "    print('*-' * 50)\n",
    "\n",
    "\n"
   ],
   "outputs": [
    {
     "name": "stdout",
     "output_type": "stream",
     "text": [
      "total:(1048575, 20)\n",
      "(112754, 20)\n",
      "(3063, 20)\n",
      "*-*-*-*-*-*-*-*-*-*-*-*-*-*-*-*-*-*-*-*-*-*-*-*-*-*-*-*-*-*-*-*-*-*-*-*-*-*-*-*-*-*-*-*-*-*-*-*-*-*-\n"
     ]
    }
   ],
   "execution_count": 17
  },
  {
   "cell_type": "code",
   "id": "26282760-6acc-4a30-93fd-89ed30a4d5fc",
   "metadata": {
    "ExecuteTime": {
     "end_time": "2025-06-08T18:56:29.301572Z",
     "start_time": "2025-06-08T18:56:29.262896Z"
    }
   },
   "source": [
    "# Data Cleaning:\n",
    "drop_column = ['type','Attack','Attack_type']\n",
    "data_processed = preprocess.clean(data_origin, drop_column=drop_column, drop_na=True, data_numerical=True)\n",
    "\n",
    "# Standardize features, target keep same as original data_processed:\n",
    "data_processed = preprocess.standardize(data_processed, ['class','sendTime','sender','senderPseudo','messageID'])\n",
    "\n",
    "# Combine axis related data such as pos, spd etc. by using M = \\sqrt{X^2 + Y^2 + Z^2}\n",
    "data_processed = preprocess.add_vector_magnitude_column(data_processed, ['posx', 'posy', 'posz'], 'pos')\n",
    "data_processed = preprocess.add_vector_magnitude_column(data_processed, ['spdx', 'spdy', 'spdz'], 'spd')\n",
    "data_processed = preprocess.add_vector_magnitude_column(data_processed, ['aclx', 'acly', 'aclz'], 'acl')\n",
    "data_processed = preprocess.add_vector_magnitude_column(data_processed, ['hedx', 'hedy', 'hedz'], 'hed')\n",
    "data_processed.drop(\n",
    "    columns=['posx', 'posy', 'posz', 'spdx', 'spdy', 'spdz', 'aclx', 'acly', 'aclz', 'hedx', 'hedy', 'hedz','sender'],\n",
    "    inplace=True\n",
    ")\n",
    "\n",
    "# ID mapping to 0-N\n",
    "data_processed['senderPseudo'] = data_processed['senderPseudo'].astype('category').cat.codes\n",
    "data_processed['messageID'] = data_processed['messageID'].astype('category').cat.codes\n",
    "\n",
    "# …run two separate CausalModel objects with *_z columns as treatment\n",
    "\n",
    "with pd.option_context('display.max_columns', None):\n",
    "    print(data_processed)\n",
    "    print(type(data_processed))\n",
    "print('*-' * 50)"
   ],
   "outputs": [
    {
     "name": "stdout",
     "output_type": "stream",
     "text": [
      "           sendTime  senderPseudo  messageID  class       pos       spd  \\\n",
      "777704  64770.68152          4913      17105      0  1.372042  0.137925   \n",
      "755697  64497.01181          4791      16755      0  1.825699  1.546896   \n",
      "952115  41856.61237          2070       7232      0  1.443544  1.487799   \n",
      "47071   72759.86293          5244      18086      0  2.087577  1.485425   \n",
      "971167  42701.72969          2181       7654      0  1.939775  1.356387   \n",
      "...             ...           ...        ...    ...       ...       ...   \n",
      "985798  43205.18483          2267       7865      1  1.408265  3.559244   \n",
      "79607   73373.47047          5414      18686      0  0.928774  1.295812   \n",
      "467487  52284.59261          2695       9400      0  1.963785  1.287427   \n",
      "947042  41610.44452          2040       7130      0  0.953436  0.649031   \n",
      "579052  62204.98480          3809      13393      0  1.416715  1.332581   \n",
      "\n",
      "             acl       hed  \n",
      "777704  0.012439  1.327697  \n",
      "755697  1.234332  1.551161  \n",
      "952115  0.248442  1.528809  \n",
      "47071   0.139511  1.344327  \n",
      "971167  0.117084  1.556912  \n",
      "...          ...       ...  \n",
      "985798  0.203661  1.325483  \n",
      "79607   0.170283  1.558343  \n",
      "467487  0.117453  1.355471  \n",
      "947042  1.940632  1.550081  \n",
      "579052  0.149151  1.319520  \n",
      "\n",
      "[20000 rows x 8 columns]\n",
      "<class 'pandas.core.frame.DataFrame'>\n",
      "*-*-*-*-*-*-*-*-*-*-*-*-*-*-*-*-*-*-*-*-*-*-*-*-*-*-*-*-*-*-*-*-*-*-*-*-*-*-*-*-*-*-*-*-*-*-*-*-*-*-\n"
     ]
    }
   ],
   "execution_count": 18
  },
  {
   "cell_type": "code",
   "id": "e7777558-ca2a-4c1d-9159-b3fff7f48662",
   "metadata": {
    "ExecuteTime": {
     "end_time": "2025-06-08T18:56:32.038805Z",
     "start_time": "2025-06-08T18:56:32.029529Z"
    }
   },
   "source": [
    "# X = data_processed.iloc[:, 1:].copy()     # 8 features\n",
    "# y = data_processed.iloc[:, 0].copy()\n",
    "#\n",
    "y = data_processed['class'].copy()\n",
    "X = data_processed.drop(columns='class')\n",
    "\n",
    "# print(X)\n",
    "# print('*-' * 50)\n",
    "# print(y)\n",
    "# print('*-' * 50)\n",
    "\n",
    "df = pd.concat([X, y.rename('class')], axis=1)\n",
    "print(df)\n",
    "node_names = df.columns.tolist()\n",
    "print(node_names)\n",
    "\n",
    "zeros = df.columns[df.var()==0]\n",
    "print(\"zero var column：\", zeros.tolist())\n",
    "\n",
    "corr = df.corr().abs()\n",
    "perfect_pairs = [(i,j) for i in corr.columns for j in corr.columns\n",
    "                 if i!=j and corr.loc[i,j]==1.0]\n",
    "print(\"corr column：\", perfect_pairs)"
   ],
   "outputs": [
    {
     "name": "stdout",
     "output_type": "stream",
     "text": [
      "           sendTime  senderPseudo  messageID       pos       spd       acl  \\\n",
      "777704  64770.68152          4913      17105  1.372042  0.137925  0.012439   \n",
      "755697  64497.01181          4791      16755  1.825699  1.546896  1.234332   \n",
      "952115  41856.61237          2070       7232  1.443544  1.487799  0.248442   \n",
      "47071   72759.86293          5244      18086  2.087577  1.485425  0.139511   \n",
      "971167  42701.72969          2181       7654  1.939775  1.356387  0.117084   \n",
      "...             ...           ...        ...       ...       ...       ...   \n",
      "985798  43205.18483          2267       7865  1.408265  3.559244  0.203661   \n",
      "79607   73373.47047          5414      18686  0.928774  1.295812  0.170283   \n",
      "467487  52284.59261          2695       9400  1.963785  1.287427  0.117453   \n",
      "947042  41610.44452          2040       7130  0.953436  0.649031  1.940632   \n",
      "579052  62204.98480          3809      13393  1.416715  1.332581  0.149151   \n",
      "\n",
      "             hed  class  \n",
      "777704  1.327697      0  \n",
      "755697  1.551161      0  \n",
      "952115  1.528809      0  \n",
      "47071   1.344327      0  \n",
      "971167  1.556912      0  \n",
      "...          ...    ...  \n",
      "985798  1.325483      1  \n",
      "79607   1.558343      0  \n",
      "467487  1.355471      0  \n",
      "947042  1.550081      0  \n",
      "579052  1.319520      0  \n",
      "\n",
      "[20000 rows x 8 columns]\n",
      "['sendTime', 'senderPseudo', 'messageID', 'pos', 'spd', 'acl', 'hed', 'class']\n",
      "zero var column： []\n",
      "corr column： []\n"
     ]
    }
   ],
   "execution_count": 19
  },
  {
   "cell_type": "code",
   "id": "3556240f-2b0d-40e1-b434-1dc5d038ca4a",
   "metadata": {
    "ExecuteTime": {
     "end_time": "2025-06-08T18:56:44.601427Z",
     "start_time": "2025-06-08T18:56:44.598610Z"
    }
   },
   "source": [
    "'''\n",
    "2.  Background knowledge creation\n",
    "'''\n",
    "bk_pc = restriction.PC_BGKnowledge(df, X, 'class')\n",
    "bk_DirectLiNGAM = restriction.DirectLiNGAM_BGKnowledge(node_names, 'class')\n",
    "# print(bk_DirectLiNGAM)"
   ],
   "outputs": [
    {
     "name": "stdout",
     "output_type": "stream",
     "text": [
      "<class 'causallearn.utils.PCUtils.BackgroundKnowledge.BackgroundKnowledge'>\n"
     ]
    }
   ],
   "execution_count": 21
  },
  {
   "cell_type": "code",
   "id": "2a6c99e9-d803-4159-aa54-5bfc3ff714db",
   "metadata": {
    "ExecuteTime": {
     "end_time": "2025-06-08T18:56:46.104984Z",
     "start_time": "2025-06-08T18:56:45.896381Z"
    }
   },
   "source": [
    "'''\n",
    "3.  Algorithm for causal discovery\n",
    "'''\n",
    "\n",
    "'''3.1 Constrained Based'''\n",
    "# PC algorithm with Kernal-based independence test\n",
    "cg_pc = cd.pc_algorithm(\n",
    "    df,\n",
    "    indep_test_func=kci,\n",
    "    alpha = 0.01,\n",
    "    uc_rule = 1,\n",
    "    max_k = 2,\n",
    "    background_knowledge = bk_pc,\n",
    "    node_names = node_names\n",
    ")\n",
    "\n",
    "pdy = GraphUtils.to_pydot(cg_pc.G)\n",
    "print(type(pdy))\n",
    "pdy.write_png('PC.png')\n",
    "\n",
    "\n",
    "# FCI algorithm with Kernal-based independence test\n",
    "# cg_fci, edges = cd.fci_algorithm(\n",
    "#     df,\n",
    "#     indep_test_func=kci,\n",
    "#     alpha=0.01,\n",
    "#     depth=-1,\n",
    "#     max_path_length=-1,\n",
    "#     verbose=False,\n",
    "#     show_progress=True,\n",
    "#     background_knowledge = bk_pc,\n",
    "#     node_names = node_names\n",
    "# )\n",
    "# pdy = GraphUtils.to_pydot(cg_fci)\n",
    "# pdy.write_png('FCI.png')"
   ],
   "outputs": [
    {
     "data": {
      "text/plain": [
       "  0%|          | 0/8 [00:00<?, ?it/s]"
      ],
      "application/vnd.jupyter.widget-view+json": {
       "version_major": 2,
       "version_minor": 0,
       "model_id": "36af46f43f114338a434c010a5d67168"
      }
     },
     "metadata": {},
     "output_type": "display_data"
    },
    {
     "name": "stdout",
     "output_type": "stream",
     "text": [
      "<class 'pydot.core.Dot'>\n"
     ]
    }
   ],
   "execution_count": 22
  },
  {
   "metadata": {
    "ExecuteTime": {
     "end_time": "2025-06-08T18:56:48.904346Z",
     "start_time": "2025-06-08T18:56:48.658590Z"
    }
   },
   "cell_type": "code",
   "source": [
    "'''3.2 constrained functional'''\n",
    "# LiNGAM\n",
    "model_LiNGAM = lingam.ICALiNGAM(random_state=42)\n",
    "model_LiNGAM.fit(df)\n",
    "print(model_LiNGAM.adjacency_matrix_)\n",
    "graph_dot_model_LiNGAM = make_dot(model_LiNGAM.adjacency_matrix_, labels=node_names)\n",
    "graph_dot_model_LiNGAM.format = 'png'\n",
    "output_path = graph_dot_model_LiNGAM.render(filename='LiNGAM',directory='.',cleanup=True)\n",
    "#\n",
    "#\n",
    "# # Direct-LiNGAM\n",
    "# model_DirectLiNGAM = lingam.DirectLiNGAM(\n",
    "#     random_state=42,\n",
    "#     prior_knowledge=None,\n",
    "#     apply_prior_knowledge_softly=False,\n",
    "#     measure='pwling',\n",
    "# )\n",
    "#\n",
    "# model_DirectLiNGAM.fit(df)\n",
    "# graph_dot_DirectLiNGAM = make_dot(model_DirectLiNGAM.adjacency_matrix_, labels=node_names)\n",
    "# graph_dot_DirectLiNGAM.format = 'png'\n",
    "# output_path = graph_dot_DirectLiNGAM.render(filename='DirectLiNGAM',directory='.',cleanup=True)"
   ],
   "id": "b2a8449ef880fd74",
   "outputs": [
    {
     "name": "stdout",
     "output_type": "stream",
     "text": [
      "[[ 0.00000000e+00 -5.17041827e+01  1.76793900e+01  1.65474586e+02\n",
      "   0.00000000e+00 -4.73994207e+01  0.00000000e+00  0.00000000e+00]\n",
      " [ 0.00000000e+00  0.00000000e+00  0.00000000e+00 -1.25980773e+02\n",
      "  -3.81151385e+01  0.00000000e+00  0.00000000e+00  0.00000000e+00]\n",
      " [ 0.00000000e+00  3.48799551e+00  0.00000000e+00 -1.21043423e+01\n",
      "   0.00000000e+00  0.00000000e+00 -3.14683356e+01  0.00000000e+00]\n",
      " [ 0.00000000e+00  0.00000000e+00  0.00000000e+00  0.00000000e+00\n",
      "   0.00000000e+00  0.00000000e+00 -2.40110348e-01  0.00000000e+00]\n",
      " [ 0.00000000e+00  0.00000000e+00  0.00000000e+00  4.55714293e-02\n",
      "   0.00000000e+00  0.00000000e+00  6.19179862e-01  0.00000000e+00]\n",
      " [ 0.00000000e+00  0.00000000e+00  0.00000000e+00 -7.34305861e-02\n",
      "  -1.90515410e-01  0.00000000e+00 -6.02142859e-01  1.38077961e-01]\n",
      " [ 0.00000000e+00  0.00000000e+00  0.00000000e+00  0.00000000e+00\n",
      "   0.00000000e+00  0.00000000e+00  0.00000000e+00  0.00000000e+00]\n",
      " [ 0.00000000e+00  0.00000000e+00  0.00000000e+00  5.48923106e-02\n",
      "   1.55419220e-01  0.00000000e+00  0.00000000e+00  0.00000000e+00]]\n"
     ]
    }
   ],
   "execution_count": 23
  },
  {
   "metadata": {
    "ExecuteTime": {
     "end_time": "2025-06-08T18:56:54.151642Z",
     "start_time": "2025-06-08T18:56:53.946636Z"
    }
   },
   "cell_type": "code",
   "source": [
    "'''3.4 Boss'''\n",
    "\n",
    "# G = boss(df.to_numpy(), score_func='local_score_marginal_general', node_names=node_names)\n",
    "G = cd.boss(df.to_numpy(), score_func='local_score_BIC', node_names=node_names)\n",
    "pyd = GraphUtils.to_pydot(G)\n",
    "pyd.write_png(\"BOSS.png\")"
   ],
   "id": "fbc4b5f1adb4f594",
   "outputs": [
    {
     "name": "stdout",
     "output_type": "stream",
     "text": [
      "BOSS edge count: 12    \n",
      "BOSS completed in: 0.01s \n"
     ]
    },
    {
     "name": "stderr",
     "output_type": "stream",
     "text": [
      "/Users/alextang/Documents/Dev/Py_Projects/XAI/causal/causal_discovery.py:230: UserWarning: Using 'local_score_BIC_from_cov' instead for efficiency\n",
      "  warnings.warn(\"Using 'local_score_BIC_from_cov' instead for efficiency\")\n"
     ]
    }
   ],
   "execution_count": 24
  },
  {
   "metadata": {
    "ExecuteTime": {
     "end_time": "2025-06-08T18:56:58.340980Z",
     "start_time": "2025-06-08T18:56:56.582475Z"
    }
   },
   "cell_type": "code",
   "source": [
    "'''3.5 NOTEARS'''\n",
    "\n",
    "w = cd.notears_linear(df.values, lambda1= 0.5, loss_type='l2')\n",
    "print(w)\n",
    "print(type(w))\n",
    "NOTEARS_adjacency_matrix_ = pd.DataFrame(w, index=node_names, columns=node_names)\n",
    "# print(NOTEARS_adjacency_matrix_)\n",
    "graph_dot_NOTEARS = make_dot(w, labels=node_names)\n",
    "graph_dot_NOTEARS.format = 'png'\n",
    "output_path = graph_dot_NOTEARS.render(filename='NOTEARS',directory='.',cleanup=True)\n",
    "\n"
   ],
   "id": "44b3d406aff0377e",
   "outputs": [
    {
     "name": "stdout",
     "output_type": "stream",
     "text": [
      "[[  0.           0.           0.           0.           0.\n",
      "    0.           0.           0.        ]\n",
      " [-51.56949502   0.           3.4763198    0.           0.\n",
      "    0.           0.           0.        ]\n",
      " [ 17.6400642    0.           0.           0.           0.\n",
      "    0.           0.           0.        ]\n",
      " [  0.           0.           0.           0.           0.\n",
      "    0.           0.           0.        ]\n",
      " [  0.           0.           0.           0.           0.\n",
      "    0.           0.           0.        ]\n",
      " [  0.           0.           0.           0.           0.\n",
      "    0.           0.           0.        ]\n",
      " [  0.           0.           0.           0.           0.\n",
      "    0.           0.           0.        ]\n",
      " [  0.           0.           0.           0.           0.\n",
      "    0.           0.           0.        ]]\n",
      "<class 'numpy.ndarray'>\n"
     ]
    }
   ],
   "execution_count": 25
  },
  {
   "metadata": {
    "ExecuteTime": {
     "end_time": "2025-06-08T18:57:02.004762Z",
     "start_time": "2025-06-08T18:57:01.977486Z"
    }
   },
   "cell_type": "code",
   "source": [
    "# Estimand\n",
    "import statsmodels.api as sm\n",
    "\n",
    "# Using the Gaussian Family for multi class\n",
    "method_params = {\n",
    "    \"glm_family\": sm.families.Gaussian()          # ≡ linear regression\n",
    "}\n",
    "\n",
    "graph = utils.make_graph(model_LiNGAM.adjacency_matrix_, labels=node_names)\n",
    "\n",
    "causal_estimand, causal_estimate = ide.estimate(df, 'acl','class', method_params, graph)\n",
    "print(causal_estimand)\n",
    "print(causal_estimate)\n",
    "# graph_dot = utils.str_to_dot(graph.source)\n",
    "\n",
    "\n"
   ],
   "id": "b1e54c5dd4be42f7",
   "outputs": [
    {
     "name": "stdout",
     "output_type": "stream",
     "text": [
      "No directed path from ['acl'] to ['class'] in the causal graph.\n",
      "Causal effect is zero.\n",
      "*** Causal Estimate ***\n",
      "\n",
      "## Identified estimand\n",
      "No directed path from ['acl'] to ['class'] in the causal graph.\n",
      "Causal effect is zero.\n",
      "## Realized estimand\n",
      "None\n",
      "## Estimate\n",
      "Mean value: 0\n",
      "\n"
     ]
    }
   ],
   "execution_count": 26
  },
  {
   "metadata": {
    "ExecuteTime": {
     "end_time": "2025-06-08T18:48:24.176211Z",
     "start_time": "2025-06-08T18:48:24.161754Z"
    }
   },
   "cell_type": "code",
   "source": [
    "# Define Causal Model\n",
    "model=CausalModel(\n",
    "        data = df,\n",
    "        treatment='acl',\n",
    "        outcome='class',\n",
    "        graph=graph_dot)\n",
    "\n",
    "# Identification\n",
    "identified_estimand = model.identify_effect(proceed_when_unidentifiable=False)\n",
    "print(identified_estimand)\n",
    "\n",
    "# Estimation\n",
    "estimate = model.estimate_effect(identified_estimand,\n",
    "                                # method_name=\"backdoor.linear_regression\",\n",
    "                                method_name=\"backdoor.generalized_linear_model\",\n",
    "                                # control_value=0,\n",
    "                                # treatment_value=1,\n",
    "                                method_params=method_params,\n",
    "                                confidence_intervals=True,\n",
    "                                target_units='ate',\n",
    "                                test_significance=True)\n",
    "print(\"Causal Estimate is: \" + str(estimate.value))\n",
    "print(estimate)\n",
    "print(type(estimate))\n",
    "\n"
   ],
   "id": "ef3b4d66abbec2e4",
   "outputs": [
    {
     "ename": "NameError",
     "evalue": "name 'graph_dot' is not defined",
     "output_type": "error",
     "traceback": [
      "\u001B[0;31m---------------------------------------------------------------------------\u001B[0m",
      "\u001B[0;31mNameError\u001B[0m                                 Traceback (most recent call last)",
      "Cell \u001B[0;32mIn[12], line 6\u001B[0m\n\u001B[1;32m      1\u001B[0m \u001B[38;5;66;03m# Define Causal Model\u001B[39;00m\n\u001B[1;32m      2\u001B[0m model\u001B[38;5;241m=\u001B[39mCausalModel(\n\u001B[1;32m      3\u001B[0m         data \u001B[38;5;241m=\u001B[39m df,\n\u001B[1;32m      4\u001B[0m         treatment\u001B[38;5;241m=\u001B[39m\u001B[38;5;124m'\u001B[39m\u001B[38;5;124macl\u001B[39m\u001B[38;5;124m'\u001B[39m,\n\u001B[1;32m      5\u001B[0m         outcome\u001B[38;5;241m=\u001B[39m\u001B[38;5;124m'\u001B[39m\u001B[38;5;124mclass\u001B[39m\u001B[38;5;124m'\u001B[39m,\n\u001B[0;32m----> 6\u001B[0m         graph\u001B[38;5;241m=\u001B[39m\u001B[43mgraph_dot\u001B[49m)\n\u001B[1;32m      8\u001B[0m \u001B[38;5;66;03m# Identification\u001B[39;00m\n\u001B[1;32m      9\u001B[0m identified_estimand \u001B[38;5;241m=\u001B[39m model\u001B[38;5;241m.\u001B[39midentify_effect(proceed_when_unidentifiable\u001B[38;5;241m=\u001B[39m\u001B[38;5;28;01mFalse\u001B[39;00m)\n",
      "\u001B[0;31mNameError\u001B[0m: name 'graph_dot' is not defined"
     ]
    }
   ],
   "execution_count": 12
  },
  {
   "metadata": {
    "ExecuteTime": {
     "end_time": "2025-06-08T17:36:21.267816Z",
     "start_time": "2025-06-08T16:32:30.377362Z"
    }
   },
   "cell_type": "code",
   "source": [
    "# Refute estimand\n",
    "from dowhy.causal_refuter import CausalRefuter, CausalRefutation\n",
    "\n",
    "refuter_list = [\"data_subset_refuter\", 'random_common_cause', 'dummy_outcome_refuter', 'placebo_treatment_refuter','bootstrap_refuter']\n",
    "\n",
    "\n",
    "ref = model.refute_estimate(\n",
    "        # df,\n",
    "        identified_estimand,\n",
    "        estimate,\n",
    "        method_name=\"random_common_cause\",\n",
    "        show_progress_bar=True,\n",
    "        # optional parameters ↓\n",
    "        # placebo_type=\"permute\",          # default: permute treatment column\n",
    "        # subset_fraction = 0.85,\n",
    "        num_simulations = 200,\n",
    "        # random_state=42,\n",
    "        n_job = -1,\n",
    "        # noise = 0.1\n",
    ")\n"
   ],
   "id": "28bb440a37c45172",
   "outputs": [
    {
     "ename": "TypeError",
     "evalue": "'NoneType' object is not subscriptable",
     "output_type": "error",
     "traceback": [
      "\u001B[0;31m---------------------------------------------------------------------------\u001B[0m",
      "\u001B[0;31mTypeError\u001B[0m                                 Traceback (most recent call last)",
      "Cell \u001B[0;32mIn[16], line 7\u001B[0m\n\u001B[1;32m      2\u001B[0m \u001B[38;5;28;01mfrom\u001B[39;00m\u001B[38;5;250m \u001B[39m\u001B[38;5;21;01mdowhy\u001B[39;00m\u001B[38;5;21;01m.\u001B[39;00m\u001B[38;5;21;01mcausal_refuter\u001B[39;00m\u001B[38;5;250m \u001B[39m\u001B[38;5;28;01mimport\u001B[39;00m CausalRefuter, CausalRefutation\n\u001B[1;32m      4\u001B[0m refuter_list \u001B[38;5;241m=\u001B[39m [\u001B[38;5;124m\"\u001B[39m\u001B[38;5;124mdata_subset_refuter\u001B[39m\u001B[38;5;124m\"\u001B[39m, \u001B[38;5;124m'\u001B[39m\u001B[38;5;124mrandom_common_cause\u001B[39m\u001B[38;5;124m'\u001B[39m, \u001B[38;5;124m'\u001B[39m\u001B[38;5;124mdummy_outcome_refuter\u001B[39m\u001B[38;5;124m'\u001B[39m, \u001B[38;5;124m'\u001B[39m\u001B[38;5;124mplacebo_treatment_refuter\u001B[39m\u001B[38;5;124m'\u001B[39m,\u001B[38;5;124m'\u001B[39m\u001B[38;5;124mbootstrap_refuter\u001B[39m\u001B[38;5;124m'\u001B[39m]\n\u001B[0;32m----> 7\u001B[0m ref \u001B[38;5;241m=\u001B[39m \u001B[43mmodel\u001B[49m\u001B[38;5;241;43m.\u001B[39;49m\u001B[43mrefute_estimate\u001B[49m\u001B[43m(\u001B[49m\n\u001B[1;32m      8\u001B[0m \u001B[43m        \u001B[49m\u001B[38;5;66;43;03m# df,\u001B[39;49;00m\n\u001B[1;32m      9\u001B[0m \u001B[43m        \u001B[49m\u001B[43midentified_estimand\u001B[49m\u001B[43m,\u001B[49m\n\u001B[1;32m     10\u001B[0m \u001B[43m        \u001B[49m\u001B[43mestimate\u001B[49m\u001B[43m,\u001B[49m\n\u001B[1;32m     11\u001B[0m \u001B[43m        \u001B[49m\u001B[43mmethod_name\u001B[49m\u001B[38;5;241;43m=\u001B[39;49m\u001B[38;5;124;43m\"\u001B[39;49m\u001B[38;5;124;43mrandom_common_cause\u001B[39;49m\u001B[38;5;124;43m\"\u001B[39;49m\u001B[43m,\u001B[49m\n\u001B[1;32m     12\u001B[0m \u001B[43m        \u001B[49m\u001B[43mshow_progress_bar\u001B[49m\u001B[38;5;241;43m=\u001B[39;49m\u001B[38;5;28;43;01mTrue\u001B[39;49;00m\u001B[43m,\u001B[49m\n\u001B[1;32m     13\u001B[0m \u001B[43m        \u001B[49m\u001B[38;5;66;43;03m# optional parameters ↓\u001B[39;49;00m\n\u001B[1;32m     14\u001B[0m \u001B[43m        \u001B[49m\u001B[38;5;66;43;03m# placebo_type=\"permute\",          # default: permute treatment column\u001B[39;49;00m\n\u001B[1;32m     15\u001B[0m \u001B[43m        \u001B[49m\u001B[38;5;66;43;03m# subset_fraction = 0.85,\u001B[39;49;00m\n\u001B[1;32m     16\u001B[0m \u001B[43m        \u001B[49m\u001B[43mnum_simulations\u001B[49m\u001B[43m \u001B[49m\u001B[38;5;241;43m=\u001B[39;49m\u001B[43m \u001B[49m\u001B[38;5;241;43m200\u001B[39;49m\u001B[43m,\u001B[49m\n\u001B[1;32m     17\u001B[0m \u001B[43m        \u001B[49m\u001B[38;5;66;43;03m# random_state=42,\u001B[39;49;00m\n\u001B[1;32m     18\u001B[0m \u001B[43m        \u001B[49m\u001B[43mn_job\u001B[49m\u001B[43m \u001B[49m\u001B[38;5;241;43m=\u001B[39;49m\u001B[43m \u001B[49m\u001B[38;5;241;43m-\u001B[39;49m\u001B[38;5;241;43m1\u001B[39;49m\u001B[43m,\u001B[49m\n\u001B[1;32m     19\u001B[0m \u001B[43m        \u001B[49m\u001B[38;5;66;43;03m# noise = 0.1\u001B[39;49;00m\n\u001B[1;32m     20\u001B[0m \u001B[43m)\u001B[49m\n",
      "File \u001B[0;32m~/Documents/Dev/Py_Projects/.conda_env/lib/python3.10/site-packages/dowhy/causal_model.py:459\u001B[0m, in \u001B[0;36mCausalModel.refute_estimate\u001B[0;34m(self, estimand, estimate, method_name, show_progress_bar, **kwargs)\u001B[0m\n\u001B[1;32m    456\u001B[0m \u001B[38;5;28;01melse\u001B[39;00m:\n\u001B[1;32m    457\u001B[0m     refuter_class \u001B[38;5;241m=\u001B[39m causal_refuters\u001B[38;5;241m.\u001B[39mget_class_object(method_name)\n\u001B[0;32m--> 459\u001B[0m refuter \u001B[38;5;241m=\u001B[39m \u001B[43mrefuter_class\u001B[49m\u001B[43m(\u001B[49m\u001B[38;5;28;43mself\u001B[39;49m\u001B[38;5;241;43m.\u001B[39;49m\u001B[43m_data\u001B[49m\u001B[43m,\u001B[49m\u001B[43m \u001B[49m\u001B[43midentified_estimand\u001B[49m\u001B[38;5;241;43m=\u001B[39;49m\u001B[43mestimand\u001B[49m\u001B[43m,\u001B[49m\u001B[43m \u001B[49m\u001B[43mestimate\u001B[49m\u001B[38;5;241;43m=\u001B[39;49m\u001B[43mestimate\u001B[49m\u001B[43m,\u001B[49m\u001B[43m \u001B[49m\u001B[38;5;241;43m*\u001B[39;49m\u001B[38;5;241;43m*\u001B[39;49m\u001B[43mkwargs\u001B[49m\u001B[43m)\u001B[49m\n\u001B[1;32m    460\u001B[0m res \u001B[38;5;241m=\u001B[39m refuter\u001B[38;5;241m.\u001B[39mrefute_estimate(show_progress_bar)\n\u001B[1;32m    461\u001B[0m \u001B[38;5;28;01mreturn\u001B[39;00m res\n",
      "File \u001B[0;32m~/Documents/Dev/Py_Projects/.conda_env/lib/python3.10/site-packages/dowhy/causal_refuters/random_common_cause.py:38\u001B[0m, in \u001B[0;36mRandomCommonCause.__init__\u001B[0;34m(self, *args, **kwargs)\u001B[0m\n\u001B[1;32m     37\u001B[0m \u001B[38;5;28;01mdef\u001B[39;00m\u001B[38;5;250m \u001B[39m\u001B[38;5;21m__init__\u001B[39m(\u001B[38;5;28mself\u001B[39m, \u001B[38;5;241m*\u001B[39margs, \u001B[38;5;241m*\u001B[39m\u001B[38;5;241m*\u001B[39mkwargs):\n\u001B[0;32m---> 38\u001B[0m     \u001B[38;5;28;43msuper\u001B[39;49m\u001B[43m(\u001B[49m\u001B[43m)\u001B[49m\u001B[38;5;241;43m.\u001B[39;49m\u001B[38;5;21;43m__init__\u001B[39;49m\u001B[43m(\u001B[49m\u001B[38;5;241;43m*\u001B[39;49m\u001B[43margs\u001B[49m\u001B[43m,\u001B[49m\u001B[43m \u001B[49m\u001B[38;5;241;43m*\u001B[39;49m\u001B[38;5;241;43m*\u001B[39;49m\u001B[43mkwargs\u001B[49m\u001B[43m)\u001B[49m\n\u001B[1;32m     39\u001B[0m     \u001B[38;5;28mself\u001B[39m\u001B[38;5;241m.\u001B[39m_num_simulations \u001B[38;5;241m=\u001B[39m kwargs\u001B[38;5;241m.\u001B[39mpop(\u001B[38;5;124m\"\u001B[39m\u001B[38;5;124mnum_simulations\u001B[39m\u001B[38;5;124m\"\u001B[39m, CausalRefuter\u001B[38;5;241m.\u001B[39mDEFAULT_NUM_SIMULATIONS)\n\u001B[1;32m     40\u001B[0m     \u001B[38;5;28mself\u001B[39m\u001B[38;5;241m.\u001B[39m_random_state \u001B[38;5;241m=\u001B[39m kwargs\u001B[38;5;241m.\u001B[39mpop(\u001B[38;5;124m\"\u001B[39m\u001B[38;5;124mrandom_state\u001B[39m\u001B[38;5;124m\"\u001B[39m, \u001B[38;5;28;01mNone\u001B[39;00m)\n",
      "File \u001B[0;32m~/Documents/Dev/Py_Projects/.conda_env/lib/python3.10/site-packages/dowhy/causal_refuter.py:57\u001B[0m, in \u001B[0;36mCausalRefuter.__init__\u001B[0;34m(self, data, identified_estimand, estimate, **kwargs)\u001B[0m\n\u001B[1;32m     54\u001B[0m \u001B[38;5;66;03m# Concatenate the confounders, instruments and effect modifiers\u001B[39;00m\n\u001B[1;32m     55\u001B[0m \u001B[38;5;28;01mtry\u001B[39;00m:\n\u001B[1;32m     56\u001B[0m     \u001B[38;5;28mself\u001B[39m\u001B[38;5;241m.\u001B[39m_variables_of_interest \u001B[38;5;241m=\u001B[39m (\n\u001B[0;32m---> 57\u001B[0m         \u001B[38;5;28;43mself\u001B[39;49m\u001B[38;5;241;43m.\u001B[39;49m\u001B[43m_target_estimand\u001B[49m\u001B[38;5;241;43m.\u001B[39;49m\u001B[43mget_backdoor_variables\u001B[49m\u001B[43m(\u001B[49m\u001B[43m)\u001B[49m\n\u001B[1;32m     58\u001B[0m         \u001B[38;5;241m+\u001B[39m \u001B[38;5;28mself\u001B[39m\u001B[38;5;241m.\u001B[39m_target_estimand\u001B[38;5;241m.\u001B[39minstrumental_variables\n\u001B[1;32m     59\u001B[0m         \u001B[38;5;241m+\u001B[39m \u001B[38;5;28mself\u001B[39m\u001B[38;5;241m.\u001B[39m_estimate\u001B[38;5;241m.\u001B[39mestimator\u001B[38;5;241m.\u001B[39m_effect_modifier_names\n\u001B[1;32m     60\u001B[0m     )\n\u001B[1;32m     61\u001B[0m \u001B[38;5;28;01mexcept\u001B[39;00m \u001B[38;5;167;01mAttributeError\u001B[39;00m \u001B[38;5;28;01mas\u001B[39;00m attr_error:\n\u001B[1;32m     62\u001B[0m     logger\u001B[38;5;241m.\u001B[39merror(attr_error)\n",
      "File \u001B[0;32m~/Documents/Dev/Py_Projects/.conda_env/lib/python3.10/site-packages/dowhy/causal_identifier/identified_estimand.py:56\u001B[0m, in \u001B[0;36mIdentifiedEstimand.get_backdoor_variables\u001B[0;34m(self, key)\u001B[0m\n\u001B[1;32m     54\u001B[0m \u001B[38;5;28;01mif\u001B[39;00m key \u001B[38;5;129;01mis\u001B[39;00m \u001B[38;5;28;01mNone\u001B[39;00m:\n\u001B[1;32m     55\u001B[0m     \u001B[38;5;28;01mif\u001B[39;00m \u001B[38;5;28mself\u001B[39m\u001B[38;5;241m.\u001B[39midentifier_method \u001B[38;5;129;01mand\u001B[39;00m \u001B[38;5;28mself\u001B[39m\u001B[38;5;241m.\u001B[39midentifier_method\u001B[38;5;241m.\u001B[39mstartswith(\u001B[38;5;124m\"\u001B[39m\u001B[38;5;124mbackdoor\u001B[39m\u001B[38;5;124m\"\u001B[39m):\n\u001B[0;32m---> 56\u001B[0m         \u001B[38;5;28;01mreturn\u001B[39;00m \u001B[38;5;28;43mself\u001B[39;49m\u001B[38;5;241;43m.\u001B[39;49m\u001B[43mbackdoor_variables\u001B[49m\u001B[43m[\u001B[49m\u001B[38;5;28;43mself\u001B[39;49m\u001B[38;5;241;43m.\u001B[39;49m\u001B[43midentifier_method\u001B[49m\u001B[43m]\u001B[49m\n\u001B[1;32m     57\u001B[0m     \u001B[38;5;28;01melif\u001B[39;00m \u001B[38;5;28mself\u001B[39m\u001B[38;5;241m.\u001B[39mbackdoor_variables \u001B[38;5;129;01mis\u001B[39;00m \u001B[38;5;129;01mnot\u001B[39;00m \u001B[38;5;28;01mNone\u001B[39;00m \u001B[38;5;129;01mand\u001B[39;00m \u001B[38;5;28mlen\u001B[39m(\u001B[38;5;28mself\u001B[39m\u001B[38;5;241m.\u001B[39mbackdoor_variables) \u001B[38;5;241m>\u001B[39m \u001B[38;5;241m0\u001B[39m:\n\u001B[1;32m     58\u001B[0m         \u001B[38;5;28;01mreturn\u001B[39;00m \u001B[38;5;28mself\u001B[39m\u001B[38;5;241m.\u001B[39mbackdoor_variables[\u001B[38;5;28mself\u001B[39m\u001B[38;5;241m.\u001B[39mdefault_backdoor_id]\n",
      "\u001B[0;31mTypeError\u001B[0m: 'NoneType' object is not subscriptable"
     ]
    }
   ],
   "execution_count": 16
  },
  {
   "metadata": {
    "ExecuteTime": {
     "end_time": "2025-06-08T17:36:21.268235Z",
     "start_time": "2025-06-01T20:26:49.564390Z"
    }
   },
   "cell_type": "code",
   "source": "print(ref)",
   "id": "ff44024c066d610a",
   "outputs": [
    {
     "name": "stdout",
     "output_type": "stream",
     "text": [
      "Refute: Add a random common cause\n",
      "Estimated effect:-3.527382616219654e-06\n",
      "New effect:-3.5287652550364257e-06\n",
      "p value:0.94\n",
      "\n"
     ]
    }
   ],
   "execution_count": 65
  }
 ],
 "metadata": {
  "kernelspec": {
   "display_name": "Python 3 (ipykernel)",
   "language": "python",
   "name": "python3"
  },
  "language_info": {
   "codemirror_mode": {
    "name": "ipython",
    "version": 3
   },
   "file_extension": ".py",
   "mimetype": "text/x-python",
   "name": "python",
   "nbconvert_exporter": "python",
   "pygments_lexer": "ipython3",
   "version": "3.10.13"
  }
 },
 "nbformat": 4,
 "nbformat_minor": 5
}
