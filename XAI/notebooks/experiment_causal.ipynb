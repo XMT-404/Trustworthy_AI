{
 "cells": [
  {
   "cell_type": "code",
   "id": "4a967d92-cb58-4da9-8693-d4b0053577d0",
   "metadata": {
    "ExecuteTime": {
     "end_time": "2025-05-18T04:43:55.487218Z",
     "start_time": "2025-05-18T04:43:55.482499Z"
    }
   },
   "source": [
    "# Quick Start: Causal Analysis\n",
    "'''\n",
    "This notebook demonstrates:\n",
    "1. Load & clean data\n",
    "2. Feature selection (IAMB)\n",
    "3. Causal discovery (PC)\n",
    "4. Effect estimation (ATE)\n",
    "5. Visualization (DAG)\n",
    "'''"
   ],
   "outputs": [
    {
     "data": {
      "text/plain": [
       "'\\nThis notebook demonstrates:\\n1. Load & clean data\\n2. Feature selection (IAMB)\\n3. Causal discovery (PC)\\n4. Effect estimation (ATE)\\n5. Visualization (DAG)\\n'"
      ]
     },
     "execution_count": 2,
     "metadata": {},
     "output_type": "execute_result"
    }
   ],
   "execution_count": 2
  },
  {
   "cell_type": "code",
   "id": "61dc89c6-aae4-4227-b7b7-e220b8e2f3db",
   "metadata": {
    "ExecuteTime": {
     "end_time": "2025-05-18T04:43:55.505980Z",
     "start_time": "2025-05-18T04:43:55.503299Z"
    }
   },
   "source": [
    "import sys, os\n",
    "\n",
    "# 1. Compute project root: one level up from the notebook folder\n",
    "proj_root = os.path.abspath(os.path.join(os.getcwd(), os.pardir))\n",
    "\n",
    "# 2. Prepend it to sys.path\n",
    "if proj_root not in sys.path:\n",
    "    sys.path.insert(0, proj_root)"
   ],
   "outputs": [],
   "execution_count": 3
  },
  {
   "cell_type": "code",
   "id": "2cd317df-c995-45d8-b948-c135499060dc",
   "metadata": {
    "ExecuteTime": {
     "end_time": "2025-05-18T04:43:56.939708Z",
     "start_time": "2025-05-18T04:43:55.515122Z"
    }
   },
   "source": [
    "import warnings\n",
    "import webbrowser\n",
    "import os\n",
    "import pandas as pd\n",
    "import numpy as np\n",
    "import shap\n",
    "import networkx as nx\n",
    "import inspect\n",
    "from causallearn.search.ConstraintBased.FCI import fci\n",
    "from causallearn.utils.cit import kci\n",
    "from causal import preprocess\n",
    "from causal import restriction\n",
    "from causal import causal_discovery as cd\n",
    "from causal import visualization as vis\n",
    "from causal import utils\n",
    "from causallearn.search.FCMBased.lingam.utils import make_dot\n",
    "from causallearn.search.FCMBased import lingam\n",
    "from dowhy import CausalModel\n",
    "import itertools\n",
    "from causallearn.utils.GraphUtils import GraphUtils\n",
    "from sklearn.preprocessing import KBinsDiscretizer\n",
    "import matplotlib.image as mpimg\n",
    "import matplotlib.pyplot as plt\n",
    "import io\n",
    "from sklearn.metrics import mutual_info_score\n",
    "from sklearn.feature_selection import mutual_info_regression\n",
    "import scipy as sp\n"
   ],
   "outputs": [
    {
     "name": "stderr",
     "output_type": "stream",
     "text": [
      "/Users/alextang/Documents/Dev/Py_Projects/.conda_env/lib/python3.10/site-packages/tqdm/auto.py:21: TqdmWarning: IProgress not found. Please update jupyter and ipywidgets. See https://ipywidgets.readthedocs.io/en/stable/user_install.html\n",
      "  from .autonotebook import tqdm as notebook_tqdm\n"
     ]
    }
   ],
   "execution_count": 4
  },
  {
   "cell_type": "code",
   "id": "4e07adb55ff73b06",
   "metadata": {
    "ExecuteTime": {
     "end_time": "2025-05-18T04:43:57.574931Z",
     "start_time": "2025-05-18T04:43:56.946258Z"
    }
   },
   "source": [
    "if __name__ == '__main__':\n",
    "\n",
    "    '''\n",
    "    1. Data Loading and Preprocessing\n",
    "    '''\n",
    "\n",
    "    path = '../Dataset/veremi_extension_simple.csv'\n",
    "    data_origin = pd.read_csv(path)\n",
    "    data_origin = data_origin.sample(n=50000, random_state=42)\n",
    "\n",
    "    # filter dos and normal data\n",
    "    # data_origin = data_origin[data_origin['class'].isin([0, 11, 12])]\n",
    "\n",
    "    # filter sybil and normal data\n",
    "    # data_origin = data_origin[data_origin['class'].isin([0, 14, 15, 16, 17])]\n",
    "    print(data_origin.head(5))\n",
    "    print('*-' * 50)\n"
   ],
   "outputs": [
    {
     "name": "stdout",
     "output_type": "stream",
     "text": [
      "        type     sendTime  sender  senderPseudo  messageID  class  \\\n",
      "781974     4  64786.79042  102705     101027056  314608216      0   \n",
      "937737     4  41423.20153   53703      10537034  162475454      0   \n",
      "907828     4  40404.51425   52437      10524374  159087544      0   \n",
      "784628     4  64742.75607  102843     101028436  314056141      0   \n",
      "662460     4  63359.25486   97329      10973296  291942663      0   \n",
      "\n",
      "               posx        posy  posz       spdx      spdy  spdz      aclx  \\\n",
      "781974   766.006969  388.626455     0 -11.730578 -4.089087     0 -0.020099   \n",
      "937737   937.440493  885.596937     0   7.065199  6.790865     0  0.046714   \n",
      "907828   212.555763  393.407409     0  -1.114930  6.797425     0 -0.272466   \n",
      "784628  1265.321975  975.176831     0 -11.239370  0.950841     0  0.235476   \n",
      "662460   202.301959  558.407352     0   0.000346  0.000346     0  0.000602   \n",
      "\n",
      "            acly  aclz      hedx      hedy  hedz  Attack      Attack_type  \n",
      "781974 -0.005977     0 -0.999999  0.001154     0  Normal  Normal behavior  \n",
      "937737  0.044903     0  0.729318  0.684175     0  Normal  Normal behavior  \n",
      "907828  1.661179     0 -0.050767  0.998711     0  Normal  Normal behavior  \n",
      "784628 -0.019563     0 -0.985441  0.170017     0  Normal  Normal behavior  \n",
      "662460  0.000602     0  0.049279 -0.998785     0  Normal  Normal behavior  \n",
      "*-*-*-*-*-*-*-*-*-*-*-*-*-*-*-*-*-*-*-*-*-*-*-*-*-*-*-*-*-*-*-*-*-*-*-*-*-*-*-*-*-*-*-*-*-*-*-*-*-*-\n"
     ]
    }
   ],
   "execution_count": 5
  },
  {
   "cell_type": "code",
   "id": "26282760-6acc-4a30-93fd-89ed30a4d5fc",
   "metadata": {
    "ExecuteTime": {
     "end_time": "2025-05-18T04:43:57.620967Z",
     "start_time": "2025-05-18T04:43:57.582223Z"
    }
   },
   "source": [
    "# Data Cleaning:\n",
    "drop_column = ['type','Attack','Attack_type']\n",
    "data_processed = preprocess.clean(data_origin, drop_column=drop_column, drop_na=True, data_numerical=True)\n",
    "\n",
    "# Standardize features, target keep same as original data_processed:\n",
    "data_processed = preprocess.standardize(data_processed, ['class','sendTime'])\n",
    "\n",
    "# Combine axis related data such as pos, spd etc. by using M = \\sqrt{X^2 + Y^2 + Z^2}\n",
    "data_processed = preprocess.add_vector_magnitude_column(data_processed, ['posx', 'posy', 'posz'], 'pos')\n",
    "data_processed = preprocess.add_vector_magnitude_column(data_processed, ['spdx', 'spdy', 'spdz'], 'spd')\n",
    "data_processed = preprocess.add_vector_magnitude_column(data_processed, ['aclx', 'acly', 'aclz'], 'acl')\n",
    "data_processed = preprocess.add_vector_magnitude_column(data_processed, ['hedx', 'hedy', 'hedz'], 'hed')\n",
    "data_processed.drop(\n",
    "    columns=['posx', 'posy', 'posz', 'spdx', 'spdy', 'spdz', 'aclx', 'acly', 'aclz', 'hedx', 'hedy', 'hedz'],\n",
    "    inplace=True\n",
    ")\n",
    "\n",
    "with pd.option_context('display.max_columns', None):\n",
    "    print(data_processed)\n",
    "    print(type(data_processed))\n",
    "print('*-' * 50)"
   ],
   "outputs": [
    {
     "name": "stdout",
     "output_type": "stream",
     "text": [
      "             sendTime    sender  senderPseudo  messageID  class       pos  \\\n",
      "781974   64786.790420  0.813130      0.081318   0.772846      0  1.022659   \n",
      "937737   41423.201530 -0.423231     -0.235959  -0.394801      0  1.096027   \n",
      "907828   40404.514250 -0.455173     -0.236003  -0.420804      0  1.352391   \n",
      "784628   64742.756070  0.816612      0.081323   0.768609      0  1.949102   \n",
      "662460   63359.254860  0.677489     -0.234429   0.598884      0  1.085600   \n",
      "...               ...       ...           ...        ...    ...       ...   \n",
      "412557   51001.319270  0.086331     -0.235250   0.097283      0  1.712751   \n",
      "148718    6078.303069 -1.765410     -0.272535  -1.638168      0  0.561974   \n",
      "1008472  32627.751570 -0.874661      0.078972  -0.814320     18  2.296967   \n",
      "873928   57558.785960  0.309775      2.990765   0.253301     19  1.190406   \n",
      "217021   26351.621540 -1.438570     -0.237369  -1.436946      0  0.968191   \n",
      "\n",
      "              spd       acl       hed  \n",
      "781974   1.474932  0.118041  1.384319  \n",
      "937737   0.650514  0.038699  1.488696  \n",
      "907828   0.513848  1.433190  1.351076  \n",
      "784628   1.286390  0.172400  1.374258  \n",
      "662460   0.310177  0.098192  1.469400  \n",
      "...           ...       ...       ...  \n",
      "412557   1.068474  0.418528  1.565103  \n",
      "148718   0.642490  1.985472  1.337059  \n",
      "1008472  2.243776  1.486234  1.228821  \n",
      "873928   0.328512  2.627641  1.348314  \n",
      "217021   1.704689  0.041199  1.408553  \n",
      "\n",
      "[50000 rows x 9 columns]\n",
      "<class 'pandas.core.frame.DataFrame'>\n",
      "*-*-*-*-*-*-*-*-*-*-*-*-*-*-*-*-*-*-*-*-*-*-*-*-*-*-*-*-*-*-*-*-*-*-*-*-*-*-*-*-*-*-*-*-*-*-*-*-*-*-\n"
     ]
    }
   ],
   "execution_count": 6
  },
  {
   "cell_type": "code",
   "id": "e7777558-ca2a-4c1d-9159-b3fff7f48662",
   "metadata": {
    "ExecuteTime": {
     "end_time": "2025-05-18T04:43:57.634992Z",
     "start_time": "2025-05-18T04:43:57.629654Z"
    }
   },
   "source": [
    "# X = data_processed.iloc[:, 1:].copy()     # 8 features\n",
    "# y = data_processed.iloc[:, 0].copy()\n",
    "#\n",
    "y = data_processed['class'].copy()\n",
    "X = data_processed.drop(columns='class')\n",
    "\n",
    "# print(X)\n",
    "# print('*-' * 50)\n",
    "# print(y)\n",
    "# print('*-' * 50)\n",
    "\n",
    "df = pd.concat([X, y.rename('class')], axis=1)\n",
    "print(df)\n",
    "node_names = df.columns.tolist()\n",
    "print(node_names)"
   ],
   "outputs": [
    {
     "name": "stdout",
     "output_type": "stream",
     "text": [
      "             sendTime    sender  senderPseudo  messageID       pos       spd  \\\n",
      "781974   64786.790420  0.813130      0.081318   0.772846  1.022659  1.474932   \n",
      "937737   41423.201530 -0.423231     -0.235959  -0.394801  1.096027  0.650514   \n",
      "907828   40404.514250 -0.455173     -0.236003  -0.420804  1.352391  0.513848   \n",
      "784628   64742.756070  0.816612      0.081323   0.768609  1.949102  1.286390   \n",
      "662460   63359.254860  0.677489     -0.234429   0.598884  1.085600  0.310177   \n",
      "...               ...       ...           ...        ...       ...       ...   \n",
      "412557   51001.319270  0.086331     -0.235250   0.097283  1.712751  1.068474   \n",
      "148718    6078.303069 -1.765410     -0.272535  -1.638168  0.561974  0.642490   \n",
      "1008472  32627.751570 -0.874661      0.078972  -0.814320  2.296967  2.243776   \n",
      "873928   57558.785960  0.309775      2.990765   0.253301  1.190406  0.328512   \n",
      "217021   26351.621540 -1.438570     -0.237369  -1.436946  0.968191  1.704689   \n",
      "\n",
      "              acl       hed  class  \n",
      "781974   0.118041  1.384319      0  \n",
      "937737   0.038699  1.488696      0  \n",
      "907828   1.433190  1.351076      0  \n",
      "784628   0.172400  1.374258      0  \n",
      "662460   0.098192  1.469400      0  \n",
      "...           ...       ...    ...  \n",
      "412557   0.418528  1.565103      0  \n",
      "148718   1.985472  1.337059      0  \n",
      "1008472  1.486234  1.228821     18  \n",
      "873928   2.627641  1.348314     19  \n",
      "217021   0.041199  1.408553      0  \n",
      "\n",
      "[50000 rows x 9 columns]\n",
      "['sendTime', 'sender', 'senderPseudo', 'messageID', 'pos', 'spd', 'acl', 'hed', 'class']\n"
     ]
    }
   ],
   "execution_count": 7
  },
  {
   "cell_type": "code",
   "id": "3556240f-2b0d-40e1-b434-1dc5d038ca4a",
   "metadata": {
    "ExecuteTime": {
     "end_time": "2025-05-18T04:43:57.648061Z",
     "start_time": "2025-05-18T04:43:57.646102Z"
    }
   },
   "source": [
    "'''\n",
    "2.  Background knowledge creation\n",
    "'''\n",
    "bk_pc = restriction.PC_BGKnowledge(df, X, 'class')"
   ],
   "outputs": [
    {
     "name": "stdout",
     "output_type": "stream",
     "text": [
      "<class 'causallearn.utils.PCUtils.BackgroundKnowledge.BackgroundKnowledge'>\n"
     ]
    }
   ],
   "execution_count": 8
  },
  {
   "cell_type": "code",
   "id": "2a6c99e9-d803-4159-aa54-5bfc3ff714db",
   "metadata": {
    "ExecuteTime": {
     "end_time": "2025-05-18T04:43:58.167901Z",
     "start_time": "2025-05-18T04:43:57.658338Z"
    }
   },
   "source": [
    "'''\n",
    "3.  Algorithm for causal discovery\n",
    "'''\n",
    "\n",
    "'''3.1 Constrained Based'''\n",
    "# PC algorithm with Kernal-based independence test\n",
    "cg_pc = cd.pc_algorithm(\n",
    "    df,\n",
    "    kci,\n",
    "    alpha = 0.01,\n",
    "    uc_rule = 1,\n",
    "    max_k = 2,\n",
    "    background_knowledge = bk_pc,\n",
    "    node_names = node_names\n",
    ")\n",
    "\n",
    "# Visualize the PC graph：\n",
    "# vis.causal_graph(cg_pc, 'PC')\n",
    "pdy = GraphUtils.to_pydot(cg_pc.G)\n",
    "pdy.write_png('PC.png')\n",
    "\n",
    "\n",
    "# FCI algorithm with Kernal-based independence test\n",
    "cg_fci, edges = cd.fci_algorithm(\n",
    "    df,\n",
    "    indep_test_func=kci,\n",
    "    alpha=0.01,\n",
    "    depth=-1,\n",
    "    max_path_length=-1,\n",
    "    verbose=False,\n",
    "    show_progress=True,\n",
    "    background_knowledge = bk_pc,\n",
    "    node_names = node_names\n",
    ")\n",
    "pdy = GraphUtils.to_pydot(cg_fci)\n",
    "pdy.write_png('FCI.png')"
   ],
   "outputs": [
    {
     "name": "stderr",
     "output_type": "stream",
     "text": [
      "Depth=5, working on node 8: 100%|██████████| 9/9 [00:00<00:00, 2556.29it/s]\n",
      "Depth=0, working on node 8: 100%|██████████| 9/9 [00:00<00:00, 1569.27it/s]\n"
     ]
    },
    {
     "name": "stdout",
     "output_type": "stream",
     "text": [
      "Starting BK Orientation.\n",
      "Orienting edge (Knowledge): senderPseudo --> class\n",
      "Orienting edge (Knowledge): pos --> class\n",
      "Orienting edge (Knowledge): spd --> class\n",
      "Orienting edge (Knowledge): acl --> class\n",
      "Orienting edge (Knowledge): hed --> class\n",
      "Finishing BK Orientation.\n",
      "Starting BK Orientation.\n",
      "Orienting edge (Knowledge): senderPseudo --> class\n",
      "Orienting edge (Knowledge): pos --> class\n",
      "Orienting edge (Knowledge): spd --> class\n",
      "Orienting edge (Knowledge): acl --> class\n",
      "Orienting edge (Knowledge): hed --> class\n",
      "Finishing BK Orientation.\n",
      "sender --> sendTime\n",
      "messageID --> sendTime\n",
      "senderPseudo --> class\n",
      "pos --> spd\n",
      "pos --> class\n",
      "spd --> class\n"
     ]
    }
   ],
   "execution_count": 9
  },
  {
   "metadata": {
    "ExecuteTime": {
     "end_time": "2025-05-18T04:43:59.332177Z",
     "start_time": "2025-05-18T04:43:58.182314Z"
    }
   },
   "cell_type": "code",
   "source": [
    "'''3.2 constrained functional'''\n",
    "# LiNGAM\n",
    "model_LiNGAM = lingam.ICALiNGAM(random_state=42)\n",
    "model_LiNGAM.fit(df)\n",
    "graph_dot_model_LiNGAM = make_dot(model_LiNGAM.adjacency_matrix_, labels=node_names)\n",
    "graph_dot_model_LiNGAM.format = 'png'\n",
    "\n",
    "output_path = graph_dot_model_LiNGAM.render(filename='LiNGAM',directory='.',cleanup=True)\n",
    "\n",
    "\n",
    "# Direct-LiNGAM\n",
    "model_DirectLiNGAM = lingam.DirectLiNGAM(\n",
    "    random_state=42,\n",
    "    prior_knowledge=None,\n",
    "    apply_prior_knowledge_softly=False,\n",
    "    measure='pwling',\n",
    ")\n",
    "\n",
    "model_DirectLiNGAM.fit(df)\n",
    "graph_dot_DirectLiNGAM = make_dot(model_DirectLiNGAM.adjacency_matrix_, labels=node_names)\n",
    "graph_dot_DirectLiNGAM.format = 'png'\n",
    "output_path = graph_dot_DirectLiNGAM.render(filename='DirectLiNGAM',directory='.',cleanup=True)\n"
   ],
   "id": "b2a8449ef880fd74",
   "outputs": [],
   "execution_count": 10
  },
  {
   "metadata": {
    "ExecuteTime": {
     "end_time": "2025-05-18T04:43:59.345346Z",
     "start_time": "2025-05-18T04:43:59.343324Z"
    }
   },
   "cell_type": "code",
   "source": [
    "# '''3.3 Additive noise model'''\n",
    "# from causallearn.search.FCMBased.ANM.ANM import ANM\n",
    "# anm = ANM()\n",
    "#\n",
    "# sendTime = data_processed['sendTime'].copy()\n",
    "# sendTime = sendTime.to_frame()\n",
    "#\n",
    "# sender = data_processed['sender'].copy()\n",
    "# sender = sender.to_frame()\n",
    "#\n",
    "# senderPseudo = data_processed['senderPseudo'].copy()\n",
    "# senderPseudo = senderPseudo.to_frame()\n",
    "#\n",
    "# messageID = data_processed['messageID'].copy()\n",
    "# messageID = messageID.to_frame()\n",
    "#\n",
    "# pos = data_processed['pos'].copy()\n",
    "# pos = pos.to_frame()\n",
    "#\n",
    "# spd = data_processed['spd'].copy()\n",
    "# spd = spd.to_frame()\n",
    "#\n",
    "# hed = data_processed['hed'].copy()\n",
    "# hed = hed.to_frame()\n",
    "#\n",
    "# acl = data_processed['acl'].copy()\n",
    "# acl = acl.to_frame()\n",
    "#\n",
    "# y_test = data_processed['class'].copy()\n",
    "# y_test = y_test.to_frame()\n",
    "\n",
    "# print(anm.cause_or_effect(sendTime, sender))\n",
    "# print(anm.cause_or_effect(sender, messageID))\n",
    "# print(anm.cause_or_effect(sendTime, messageID))\n",
    "\n"
   ],
   "id": "771515ec2b81c706",
   "outputs": [],
   "execution_count": 11
  },
  {
   "metadata": {
    "ExecuteTime": {
     "end_time": "2025-05-18T04:43:59.560918Z",
     "start_time": "2025-05-18T04:43:59.356330Z"
    }
   },
   "cell_type": "code",
   "source": [
    "'''3.4 GRaSP/Boss'''\n",
    "from causallearn.search.PermutationBased.GRaSP import grasp\n",
    "from causallearn.search.PermutationBased.BOSS import boss\n",
    "from causallearn.utils.GraphUtils import GraphUtils\n",
    "\n",
    "G = boss(df, score_func='local_score_BIC', node_names=node_names)\n",
    "\n",
    "pyd = GraphUtils.to_pydot(G)\n",
    "pyd.write_png(\"BOSS.png\")"
   ],
   "id": "fbc4b5f1adb4f594",
   "outputs": [
    {
     "name": "stdout",
     "output_type": "stream",
     "text": [
      "BOSS edge count: 20    \n",
      "BOSS completed in: 0.03s \n"
     ]
    },
    {
     "name": "stderr",
     "output_type": "stream",
     "text": [
      "/Users/alextang/Documents/Dev/Py_Projects/.conda_env/lib/python3.10/site-packages/causallearn/search/PermutationBased/BOSS.py:98: UserWarning: Using 'local_score_BIC_from_cov' instead for efficiency\n",
      "  warnings.warn(\"Using 'local_score_BIC_from_cov' instead for efficiency\")\n"
     ]
    }
   ],
   "execution_count": 12
  },
  {
   "metadata": {
    "ExecuteTime": {
     "end_time": "2025-05-18T04:44:01.201907Z",
     "start_time": "2025-05-18T04:43:59.575896Z"
    }
   },
   "cell_type": "code",
   "source": [
    "'''3.5 NOTEARS'''\n",
    "\n",
    "#notears_linear(X, lambda1, loss_type, max_iter=100, h_tol=1e-8, rho_max=1e+16, w_threshold=0.3))\n",
    "\n",
    "w = cd.notears_linear(df.values, lambda1= 0.5, loss_type='l2')\n",
    "print(w)\n",
    "print(w.shape)\n",
    "NOTEARS_adjacency_matrix_ = pd.DataFrame(w, index=node_names, columns=node_names)\n",
    "graph_dot_NOTEARS = make_dot(NOTEARS_adjacency_matrix_, labels=node_names)\n",
    "graph_dot_NOTEARS.format = 'png'\n",
    "output_path = graph_dot_NOTEARS.render(filename='NOTEARS',directory='.',cleanup=True)\n",
    "\n"
   ],
   "id": "44b3d406aff0377e",
   "outputs": [
    {
     "name": "stderr",
     "output_type": "stream",
     "text": [
      "/Users/alextang/Documents/Dev/Py_Projects/.conda_env/lib/python3.10/site-packages/scipy/linalg/_matfuncs.py:373: RuntimeWarning: overflow encountered in matmul\n",
      "  eAw = eAw @ eAw\n",
      "/Users/alextang/Documents/Dev/Py_Projects/XAI/causal/causal_discovery.py:96: RuntimeWarning: invalid value encountered in multiply\n",
      "  G_h = E.T * W * 2\n"
     ]
    },
    {
     "name": "stdout",
     "output_type": "stream",
     "text": [
      "[[ 0.00000000e+00  0.00000000e+00  0.00000000e+00  0.00000000e+00\n",
      "   0.00000000e+00  0.00000000e+00  0.00000000e+00  0.00000000e+00\n",
      "   0.00000000e+00]\n",
      " [ 8.21399601e+03  0.00000000e+00  0.00000000e+00 -1.89121455e+00\n",
      "   0.00000000e+00  0.00000000e+00  0.00000000e+00  0.00000000e+00\n",
      "   0.00000000e+00]\n",
      " [ 1.40063230e+03  0.00000000e+00  0.00000000e+00  0.00000000e+00\n",
      "   0.00000000e+00  0.00000000e+00  0.00000000e+00  0.00000000e+00\n",
      "   8.61925146e-01]\n",
      " [ 8.14131403e+03 -1.88800850e+00  0.00000000e+00  0.00000000e+00\n",
      "   0.00000000e+00  0.00000000e+00  0.00000000e+00  0.00000000e+00\n",
      "   0.00000000e+00]\n",
      " [-1.54146003e+02  0.00000000e+00  0.00000000e+00  0.00000000e+00\n",
      "   0.00000000e+00  0.00000000e+00  0.00000000e+00  0.00000000e+00\n",
      "   0.00000000e+00]\n",
      " [-7.15840500e+01  0.00000000e+00  0.00000000e+00  0.00000000e+00\n",
      "   0.00000000e+00  0.00000000e+00  0.00000000e+00  0.00000000e+00\n",
      "   3.02362595e-01]\n",
      " [-3.15016870e+01  0.00000000e+00  0.00000000e+00  0.00000000e+00\n",
      "   0.00000000e+00  0.00000000e+00  0.00000000e+00  0.00000000e+00\n",
      "   0.00000000e+00]\n",
      " [ 1.94915334e+00  0.00000000e+00  0.00000000e+00  0.00000000e+00\n",
      "   0.00000000e+00  0.00000000e+00  0.00000000e+00  0.00000000e+00\n",
      "   0.00000000e+00]\n",
      " [-6.26632504e+01  0.00000000e+00  0.00000000e+00  0.00000000e+00\n",
      "   0.00000000e+00  0.00000000e+00  0.00000000e+00  0.00000000e+00\n",
      "   0.00000000e+00]]\n",
      "(9, 9)\n"
     ]
    }
   ],
   "execution_count": 13
  },
  {
   "metadata": {
    "ExecuteTime": {
     "end_time": "2025-05-18T04:44:51.375157Z",
     "start_time": "2025-05-18T04:44:51.331139Z"
    }
   },
   "cell_type": "code",
   "source": [
    "# causal graph identify\n",
    "# Obtain valid dot format\n",
    "graph_dot_LiNGAM = utils.make_graph(model_LiNGAM.adjacency_matrix_, labels=node_names)\n",
    "\n",
    "# Define Causal Model\n",
    "model=CausalModel(\n",
    "        data = df,\n",
    "        treatment='senderPseudo',\n",
    "        outcome='class',\n",
    "        graph=utils.str_to_dot(graph_dot_LiNGAM.source))\n",
    "\n",
    "# Identification\n",
    "identified_estimand_LiNGAM = model.identify_effect(proceed_when_unidentifiable=False)\n",
    "print(identified_estimand_LiNGAM)"
   ],
   "id": "b1e54c5dd4be42f7",
   "outputs": [
    {
     "name": "stdout",
     "output_type": "stream",
     "text": [
      "Estimand type: EstimandType.NONPARAMETRIC_ATE\n",
      "\n",
      "### Estimand : 1\n",
      "Estimand name: backdoor\n",
      "Estimand expression:\n",
      "       d                                  \n",
      "───────────────(E[class|sender,messageID])\n",
      "d[senderPseudo]                           \n",
      "Estimand assumption 1, Unconfoundedness: If U→{senderPseudo} and U→class then P(class|senderPseudo,sender,messageID,U) = P(class|senderPseudo,sender,messageID)\n",
      "\n",
      "### Estimand : 2\n",
      "Estimand name: iv\n",
      "No such variable(s) found!\n",
      "\n",
      "### Estimand : 3\n",
      "Estimand name: frontdoor\n",
      "No such variable(s) found!\n",
      "\n"
     ]
    }
   ],
   "execution_count": 15
  }
 ],
 "metadata": {
  "kernelspec": {
   "display_name": "Python 3 (ipykernel)",
   "language": "python",
   "name": "python3"
  },
  "language_info": {
   "codemirror_mode": {
    "name": "ipython",
    "version": 3
   },
   "file_extension": ".py",
   "mimetype": "text/x-python",
   "name": "python",
   "nbconvert_exporter": "python",
   "pygments_lexer": "ipython3",
   "version": "3.10.13"
  }
 },
 "nbformat": 4,
 "nbformat_minor": 5
}
