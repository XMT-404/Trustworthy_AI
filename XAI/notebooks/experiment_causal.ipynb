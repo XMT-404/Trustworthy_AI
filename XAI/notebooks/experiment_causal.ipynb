{
 "cells": [
  {
   "cell_type": "code",
   "id": "4a967d92-cb58-4da9-8693-d4b0053577d0",
   "metadata": {
    "ExecuteTime": {
     "end_time": "2025-06-15T21:35:22.266204Z",
     "start_time": "2025-06-15T21:35:22.262663Z"
    }
   },
   "source": [
    "from gmpy2.gmpy2 import random_state\n",
    "\n",
    "# Quick Start: Causal Analysis\n",
    "'''\n",
    "This notebook demonstrates:\n",
    "1. Load & clean data\n",
    "2. Feature selection (IAMB)\n",
    "3. Causal discovery (PC)\n",
    "4. Effect estimation (ATE)\n",
    "5. Visualization (DAG)\n",
    "'''"
   ],
   "outputs": [
    {
     "data": {
      "text/plain": [
       "'\\nThis notebook demonstrates:\\n1. Load & clean data\\n2. Feature selection (IAMB)\\n3. Causal discovery (PC)\\n4. Effect estimation (ATE)\\n5. Visualization (DAG)\\n'"
      ]
     },
     "execution_count": 33,
     "metadata": {},
     "output_type": "execute_result"
    }
   ],
   "execution_count": 33
  },
  {
   "cell_type": "code",
   "id": "61dc89c6-aae4-4227-b7b7-e220b8e2f3db",
   "metadata": {
    "ExecuteTime": {
     "end_time": "2025-06-15T21:35:22.291122Z",
     "start_time": "2025-06-15T21:35:22.288864Z"
    }
   },
   "source": [
    "import sys, os\n",
    "\n",
    "# 1. Compute project root: one level up from the notebook folder\n",
    "proj_root = os.path.abspath(os.path.join(os.getcwd(), os.pardir))\n",
    "\n",
    "# 2. Prepend it to sys.path\n",
    "if proj_root not in sys.path:\n",
    "    sys.path.insert(0, proj_root)"
   ],
   "outputs": [],
   "execution_count": 34
  },
  {
   "cell_type": "code",
   "id": "2cd317df-c995-45d8-b948-c135499060dc",
   "metadata": {
    "ExecuteTime": {
     "end_time": "2025-06-15T21:35:22.305251Z",
     "start_time": "2025-06-15T21:35:22.302905Z"
    }
   },
   "source": [
    "import pandas as pd\n",
    "from causallearn.utils.cit import kci\n",
    "from causal import preprocess\n",
    "from causal import restriction\n",
    "from causal import causal_discovery as cd\n",
    "from causal import identifier as ide\n",
    "from causal import visualization as vis\n",
    "from causal import utils\n",
    "from causal import refuter as ref\n",
    "from causallearn.search.FCMBased.lingam.utils import make_dot\n",
    "from causallearn.search.FCMBased import lingam\n",
    "from dowhy import CausalModel\n",
    "from causallearn.utils.GraphUtils import GraphUtils\n",
    "\n",
    "import warnings\n",
    "warnings.filterwarnings(\"ignore\", category=FutureWarning)"
   ],
   "outputs": [],
   "execution_count": 35
  },
  {
   "cell_type": "code",
   "id": "4e07adb55ff73b06",
   "metadata": {
    "ExecuteTime": {
     "end_time": "2025-06-15T21:35:23.217167Z",
     "start_time": "2025-06-15T21:35:22.315651Z"
    }
   },
   "source": [
    "if __name__ == '__main__':\n",
    "\n",
    "    '''\n",
    "    1. Data Loading and Preprocessing\n",
    "    '''\n",
    "\n",
    "    path = '../Dataset/veremi_extension_simple.csv'\n",
    "    data_origin = pd.read_csv(path)\n",
    "    print(f'total:{data_origin.shape}')\n",
    "    # print(data_origin)\n",
    "\n",
    "    # filter Ddos and normal data\n",
    "    data_origin = data_origin[data_origin['class'].isin([0, 11, 12, 13, 16, 17])]\n",
    "\n",
    "    # filter fake data attack and normal data\n",
    "    # data_origin = data_origin[data_origin['class'].isin([0, 1, 2, 3, 4, 5, 6, 7, 8])]\n",
    "\n",
    "    # filter sybil attack and normal data\n",
    "    # data_origin = data_origin[data_origin['class'].isin([0, 14, 15, 16, 17])]\n",
    "    # print(data_origin.head(5))\n",
    "\n",
    "    # filter sybil disruptive/data reply and normal data\n",
    "    # data_origin = data_origin[data_origin['class'].isin([0, 10])]\n",
    "    # print(data_origin.head(5))\n",
    "\n",
    "    data_origin = utils.collapse_classes(data_origin, 1)\n",
    "    print(data_origin[data_origin['class'] == 1].shape)\n",
    "\n",
    "    data_origin = utils.min_sample_retention(data_origin, test_size = 80000, random_state=42)\n",
    "    # print(data_origin)\n",
    "\n",
    "    print(data_origin[data_origin['class'] == 1].shape)\n",
    "    print('*-' * 50)\n",
    "\n",
    "\n"
   ],
   "outputs": [
    {
     "name": "stdout",
     "output_type": "stream",
     "text": [
      "total:(1048575, 20)\n",
      "(143130, 20)\n",
      "(14934, 20)\n",
      "*-*-*-*-*-*-*-*-*-*-*-*-*-*-*-*-*-*-*-*-*-*-*-*-*-*-*-*-*-*-*-*-*-*-*-*-*-*-*-*-*-*-*-*-*-*-*-*-*-*-\n"
     ]
    }
   ],
   "execution_count": 36
  },
  {
   "cell_type": "code",
   "id": "26282760-6acc-4a30-93fd-89ed30a4d5fc",
   "metadata": {
    "ExecuteTime": {
     "end_time": "2025-06-15T21:35:23.298134Z",
     "start_time": "2025-06-15T21:35:23.228886Z"
    }
   },
   "source": [
    "# Data Cleaning:\n",
    "drop_column = ['type','Attack','Attack_type']\n",
    "data_processed = preprocess.clean(data_origin, drop_column=drop_column, drop_na=True, data_numerical=True)\n",
    "\n",
    "# Standardize features, target keep same as original data_processed:\n",
    "data_processed = preprocess.standardize(data_processed, ['class','sendTime','sender','senderPseudo','messageID'])\n",
    "\n",
    "# Combine axis related data such as pos, spd etc. by using M = \\sqrt{X^2 + Y^2 + Z^2}\n",
    "data_processed = preprocess.add_vector_magnitude_column(data_processed, ['posx', 'posy', 'posz'], 'pos')\n",
    "data_processed = preprocess.add_vector_magnitude_column(data_processed, ['spdx', 'spdy', 'spdz'], 'spd')\n",
    "data_processed = preprocess.add_vector_magnitude_column(data_processed, ['aclx', 'acly', 'aclz'], 'acl')\n",
    "data_processed = preprocess.add_vector_magnitude_column(data_processed, ['hedx', 'hedy', 'hedz'], 'hed')\n",
    "data_processed.drop(\n",
    "    columns=['posx', 'posy', 'posz', 'spdx', 'spdy', 'spdz', 'aclx', 'acly', 'aclz', 'hedx', 'hedy', 'hedz','sender'],\n",
    "    inplace=True\n",
    ")\n",
    "\n",
    "# ID mapping to 0-N\n",
    "data_processed['senderPseudo'] = data_processed['senderPseudo'].astype('category').cat.codes\n",
    "data_processed['messageID'] = data_processed['messageID'].astype('category').cat.codes\n",
    "\n",
    "# …run two separate CausalModel objects with *_z columns as treatment\n",
    "\n",
    "with pd.option_context('display.max_columns', None):\n",
    "    print(data_processed)\n",
    "    print(type(data_processed))\n",
    "print('*-' * 50)"
   ],
   "outputs": [
    {
     "name": "stdout",
     "output_type": "stream",
     "text": [
      "            sendTime  senderPseudo  messageID  class       pos       spd  \\\n",
      "656639   63353.20816          4435      59100      0  1.354733  0.061347   \n",
      "1026470  32982.84854          1677      22170      0  0.933590  1.149308   \n",
      "524084   53998.32004          3139      41541      0  1.448848  0.061388   \n",
      "19426    72339.34587          5769      70050      0  1.131498  0.862196   \n",
      "19598    72511.34587          5769      70977      0  1.834559  1.713286   \n",
      "...              ...           ...        ...    ...       ...       ...   \n",
      "44377    72778.87973          5911      72217      0  0.709379  1.028168   \n",
      "607815   62642.26475          4141      55049      0  2.292424  0.623311   \n",
      "270668   27132.25916           770       9425      0  1.216551  1.573593   \n",
      "1020577  32769.49372          1648      20835      0  2.196679  1.732858   \n",
      "589186   62321.83816          4031      53523      0  1.094986  1.521279   \n",
      "\n",
      "              acl       hed  \n",
      "656639   0.006894  1.320137  \n",
      "1026470  1.702268  1.442326  \n",
      "524084   0.087245  1.461903  \n",
      "19426    0.573807  1.322034  \n",
      "19598    0.733850  1.556116  \n",
      "...           ...       ...  \n",
      "44377    2.227905  1.308003  \n",
      "607815   2.252333  1.458417  \n",
      "270668   0.052511  1.397278  \n",
      "1020577  0.069524  1.313368  \n",
      "589186   3.147976  1.540467  \n",
      "\n",
      "[80000 rows x 8 columns]\n",
      "<class 'pandas.core.frame.DataFrame'>\n",
      "*-*-*-*-*-*-*-*-*-*-*-*-*-*-*-*-*-*-*-*-*-*-*-*-*-*-*-*-*-*-*-*-*-*-*-*-*-*-*-*-*-*-*-*-*-*-*-*-*-*-\n"
     ]
    }
   ],
   "execution_count": 37
  },
  {
   "cell_type": "code",
   "id": "e7777558-ca2a-4c1d-9159-b3fff7f48662",
   "metadata": {
    "ExecuteTime": {
     "end_time": "2025-06-15T21:35:23.316998Z",
     "start_time": "2025-06-15T21:35:23.304068Z"
    }
   },
   "source": [
    "# X = data_processed.iloc[:, 1:].copy()     # 8 features\n",
    "# y = data_processed.iloc[:, 0].copy()\n",
    "#\n",
    "y = data_processed['class'].copy()\n",
    "X = data_processed.drop(columns='class')\n",
    "\n",
    "# print(X)\n",
    "# print('*-' * 50)\n",
    "# print(y)\n",
    "# print('*-' * 50)\n",
    "\n",
    "df = pd.concat([X, y.rename('class')], axis=1)\n",
    "print(df)\n",
    "node_names = df.columns.tolist()\n",
    "print(node_names)\n",
    "\n",
    "zeros = df.columns[df.var()==0]\n",
    "print(\"zero var column：\", zeros.tolist())\n",
    "\n",
    "corr = df.corr().abs()\n",
    "perfect_pairs = [(i,j) for i in corr.columns for j in corr.columns\n",
    "                 if i!=j and corr.loc[i,j]==1.0]\n",
    "print(\"corr column：\", perfect_pairs)"
   ],
   "outputs": [
    {
     "name": "stdout",
     "output_type": "stream",
     "text": [
      "            sendTime  senderPseudo  messageID       pos       spd       acl  \\\n",
      "656639   63353.20816          4435      59100  1.354733  0.061347  0.006894   \n",
      "1026470  32982.84854          1677      22170  0.933590  1.149308  1.702268   \n",
      "524084   53998.32004          3139      41541  1.448848  0.061388  0.087245   \n",
      "19426    72339.34587          5769      70050  1.131498  0.862196  0.573807   \n",
      "19598    72511.34587          5769      70977  1.834559  1.713286  0.733850   \n",
      "...              ...           ...        ...       ...       ...       ...   \n",
      "44377    72778.87973          5911      72217  0.709379  1.028168  2.227905   \n",
      "607815   62642.26475          4141      55049  2.292424  0.623311  2.252333   \n",
      "270668   27132.25916           770       9425  1.216551  1.573593  0.052511   \n",
      "1020577  32769.49372          1648      20835  2.196679  1.732858  0.069524   \n",
      "589186   62321.83816          4031      53523  1.094986  1.521279  3.147976   \n",
      "\n",
      "              hed  class  \n",
      "656639   1.320137      0  \n",
      "1026470  1.442326      0  \n",
      "524084   1.461903      0  \n",
      "19426    1.322034      0  \n",
      "19598    1.556116      0  \n",
      "...           ...    ...  \n",
      "44377    1.308003      0  \n",
      "607815   1.458417      0  \n",
      "270668   1.397278      0  \n",
      "1020577  1.313368      0  \n",
      "589186   1.540467      0  \n",
      "\n",
      "[80000 rows x 8 columns]\n",
      "['sendTime', 'senderPseudo', 'messageID', 'pos', 'spd', 'acl', 'hed', 'class']\n",
      "zero var column： []\n",
      "corr column： []\n"
     ]
    }
   ],
   "execution_count": 38
  },
  {
   "cell_type": "code",
   "id": "3556240f-2b0d-40e1-b434-1dc5d038ca4a",
   "metadata": {
    "ExecuteTime": {
     "end_time": "2025-06-15T21:35:23.336228Z",
     "start_time": "2025-06-15T21:35:23.334208Z"
    }
   },
   "source": [
    "'''\n",
    "2.  Background knowledge creation\n",
    "'''\n",
    "bk_pc = restriction.PC_BGKnowledge(df, X, 'class')\n",
    "bk_DirectLiNGAM = restriction.DirectLiNGAM_BGKnowledge(node_names, 'class')\n",
    "# print(bk_DirectLiNGAM)"
   ],
   "outputs": [
    {
     "name": "stdout",
     "output_type": "stream",
     "text": [
      "<class 'causallearn.utils.PCUtils.BackgroundKnowledge.BackgroundKnowledge'>\n"
     ]
    }
   ],
   "execution_count": 39
  },
  {
   "cell_type": "code",
   "id": "2a6c99e9-d803-4159-aa54-5bfc3ff714db",
   "metadata": {
    "ExecuteTime": {
     "end_time": "2025-06-15T21:35:23.551563Z",
     "start_time": "2025-06-15T21:35:23.346531Z"
    }
   },
   "source": [
    "'''\n",
    "3.  Algorithm for causal discovery\n",
    "'''\n",
    "\n",
    "'''3.1 Constrained Based'''\n",
    "# PC algorithm with Kernal-based independence test\n",
    "cg_pc = cd.pc_algorithm(\n",
    "    df,\n",
    "    indep_test_func = kci,\n",
    "    alpha = 0.01,\n",
    "    uc_rule = 1,\n",
    "    max_k = 2,\n",
    "    background_knowledge = bk_pc,\n",
    "    node_names = node_names\n",
    ")\n",
    "\n",
    "pdy = GraphUtils.to_pydot(cg_pc.G)\n",
    "print(type(pdy))\n",
    "pdy.write_png('PC.png')\n",
    "\n",
    "\n",
    "# FCI algorithm with Kernal-based independence test\n",
    "# cg_fci, edges = cd.fci_algorithm(\n",
    "#     df,\n",
    "#     indep_test_func=kci,\n",
    "#     alpha=0.01,\n",
    "#     depth=-1,\n",
    "#     max_path_length=-1,\n",
    "#     verbose=False,\n",
    "#     show_progress=True,\n",
    "#     background_knowledge = bk_pc,\n",
    "#     node_names = node_names\n",
    "# )\n",
    "# pdy = GraphUtils.to_pydot(cg_fci)\n",
    "# pdy.write_png('FCI.png')"
   ],
   "outputs": [
    {
     "data": {
      "text/plain": [
       "  0%|          | 0/8 [00:00<?, ?it/s]"
      ],
      "application/vnd.jupyter.widget-view+json": {
       "version_major": 2,
       "version_minor": 0,
       "model_id": "fa4cd70294bf47ec838071e7d59b3d84"
      }
     },
     "metadata": {},
     "output_type": "display_data"
    },
    {
     "name": "stdout",
     "output_type": "stream",
     "text": [
      "<class 'pydot.core.Dot'>\n"
     ]
    }
   ],
   "execution_count": 40
  },
  {
   "metadata": {
    "ExecuteTime": {
     "end_time": "2025-06-15T21:35:23.924218Z",
     "start_time": "2025-06-15T21:35:23.564992Z"
    }
   },
   "cell_type": "code",
   "source": [
    "'''3.2 constrained functional'''\n",
    "# LiNGAM\n",
    "model_LiNGAM = lingam.ICALiNGAM(random_state=42)\n",
    "model_LiNGAM.fit(df)\n",
    "print(model_LiNGAM.adjacency_matrix_)\n",
    "graph_dot_model_LiNGAM = make_dot(model_LiNGAM.adjacency_matrix_, labels=node_names)\n",
    "graph_dot_model_LiNGAM.format = 'png'\n",
    "output_path = graph_dot_model_LiNGAM.render(filename='LiNGAM',directory='.',cleanup=True)\n",
    "#\n",
    "#\n",
    "# # Direct-LiNGAM\n",
    "# model_DirectLiNGAM = lingam.DirectLiNGAM(\n",
    "#     random_state=42,\n",
    "#     prior_knowledge=None,\n",
    "#     apply_prior_knowledge_softly=False,\n",
    "#     measure='pwling',\n",
    "# )\n",
    "#\n",
    "# model_DirectLiNGAM.fit(df)\n",
    "# graph_dot_DirectLiNGAM = make_dot(model_DirectLiNGAM.adjacency_matrix_, labels=node_names)\n",
    "# graph_dot_DirectLiNGAM.format = 'png'\n",
    "# output_path = graph_dot_DirectLiNGAM.render(filename='DirectLiNGAM',directory='.',cleanup=True)"
   ],
   "id": "b2a8449ef880fd74",
   "outputs": [
    {
     "name": "stdout",
     "output_type": "stream",
     "text": [
      "[[ 0.00000000e+00 -2.40988648e-01  7.37252725e-01  0.00000000e+00\n",
      "  -2.37696740e+01  0.00000000e+00 -1.83910816e+02  0.00000000e+00]\n",
      " [ 0.00000000e+00  0.00000000e+00  0.00000000e+00 -1.44488656e+02\n",
      "  -4.41373119e+01  0.00000000e+00  2.62060300e+02  5.23232426e+02]\n",
      " [ 0.00000000e+00  1.06364428e+01  0.00000000e+00 -3.70146732e+02\n",
      "   0.00000000e+00  0.00000000e+00 -3.20367510e+03 -6.21376476e+03]\n",
      " [ 0.00000000e+00  0.00000000e+00  0.00000000e+00  0.00000000e+00\n",
      "   3.67896168e-02  0.00000000e+00 -9.47790781e-01  0.00000000e+00]\n",
      " [ 0.00000000e+00  0.00000000e+00  0.00000000e+00  0.00000000e+00\n",
      "   0.00000000e+00  0.00000000e+00  0.00000000e+00  0.00000000e+00]\n",
      " [ 0.00000000e+00  0.00000000e+00  0.00000000e+00 -6.98498596e-02\n",
      "  -1.70189040e-01  0.00000000e+00  3.18366650e-01 -7.63231179e-02]\n",
      " [ 0.00000000e+00  0.00000000e+00  0.00000000e+00  0.00000000e+00\n",
      "   3.89047394e-02  0.00000000e+00  0.00000000e+00  0.00000000e+00]\n",
      " [ 0.00000000e+00  0.00000000e+00  0.00000000e+00  2.33693381e-02\n",
      "  -9.87532829e-02  0.00000000e+00 -3.42161105e-01  0.00000000e+00]]\n"
     ]
    }
   ],
   "execution_count": 41
  },
  {
   "metadata": {
    "ExecuteTime": {
     "end_time": "2025-06-15T21:35:24.127790Z",
     "start_time": "2025-06-15T21:35:23.941411Z"
    }
   },
   "cell_type": "code",
   "source": [
    "'''3.4 Boss'''\n",
    "\n",
    "# G = boss(df.to_numpy(), score_func='local_score_marginal_general', node_names=node_names)\n",
    "G = cd.boss(df.to_numpy(), score_func='local_score_BIC', node_names=node_names)\n",
    "pyd = GraphUtils.to_pydot(G)\n",
    "pyd.write_png(\"BOSS.png\")"
   ],
   "id": "fbc4b5f1adb4f594",
   "outputs": [
    {
     "name": "stdout",
     "output_type": "stream",
     "text": [
      "order:[0, 1, 2, 3, 4, 5, 6, 7]\n",
      "leaf_idx:7\n",
      "gsts:[<causallearn.search.PermutationBased.gst.GST object at 0x32f352f80>, <causallearn.search.PermutationBased.gst.GST object at 0x32f353550>, <causallearn.search.PermutationBased.gst.GST object at 0x32f351900>, <causallearn.search.PermutationBased.gst.GST object at 0x351cba740>, <causallearn.search.PermutationBased.gst.GST object at 0x351cbb1c0>, <causallearn.search.PermutationBased.gst.GST object at 0x351cba4d0>, <causallearn.search.PermutationBased.gst.GST object at 0x351cbbfd0>, <causallearn.search.PermutationBased.gst.GST object at 0x351cbb760>]\n",
      "=== GST #0 ===\n",
      "vertex        : 0\n",
      "forbidden     : [0, 7]\n",
      "required      : []\n",
      "root.grow_score : -1557844.0834874809\n",
      "root.shrink_score: -1557844.0834874809\n",
      "=== GST #1 ===\n",
      "vertex        : 1\n",
      "forbidden     : [1, 7]\n",
      "required      : []\n",
      "root.grow_score : -1212917.9297909713\n",
      "root.shrink_score: -1212917.9297909713\n",
      "=== GST #2 ===\n",
      "vertex        : 2\n",
      "forbidden     : [2, 7]\n",
      "required      : []\n",
      "root.grow_score : -1607573.5741956732\n",
      "root.shrink_score: -1607573.5741956732\n",
      "=== GST #3 ===\n",
      "vertex        : 3\n",
      "forbidden     : [3, 7]\n",
      "required      : []\n",
      "root.grow_score : 93879.77998131077\n",
      "root.shrink_score: 93879.77998131077\n",
      "=== GST #4 ===\n",
      "vertex        : 4\n",
      "forbidden     : [4, 7]\n",
      "required      : []\n",
      "root.grow_score : 52034.45978766242\n",
      "root.shrink_score: 52034.45978766242\n",
      "=== GST #5 ===\n",
      "vertex        : 5\n",
      "forbidden     : [5, 7]\n",
      "required      : []\n",
      "root.grow_score : -4225.677645792898\n",
      "root.shrink_score: -4225.677645792898\n",
      "=== GST #6 ===\n",
      "vertex        : 6\n",
      "forbidden     : [6, 7]\n",
      "required      : []\n",
      "root.grow_score : 298526.7887239147\n",
      "root.shrink_score: 298526.7887239147\n",
      "=== GST #7 ===\n",
      "vertex        : 7\n",
      "forbidden     : [7]\n",
      "required      : []\n",
      "root.grow_score : 150799.85098394967\n",
      "root.shrink_score: 150799.85098394967\n",
      "parents:{0: [], 1: [], 2: [], 3: [], 4: [], 5: [], 6: [], 7: []}\n",
      "[1, 4, 2, 3, 7, 5, 6, 0]\n",
      "BOSS edge count: 19    [3, 5, 4, 0, 6, 2, 1, 7]\n",
      "BOSS edge count: 17    \n",
      "BOSS completed in: 0.01s \n"
     ]
    },
    {
     "name": "stderr",
     "output_type": "stream",
     "text": [
      "/Users/alextang/Documents/Dev/Py_Projects/XAI/causal/causal_discovery.py:232: UserWarning: Using 'local_score_BIC_from_cov' instead for efficiency\n",
      "  warnings.warn(\"Using 'local_score_BIC_from_cov' instead for efficiency\")\n"
     ]
    }
   ],
   "execution_count": 42
  },
  {
   "metadata": {
    "ExecuteTime": {
     "end_time": "2025-06-15T21:35:53.136005Z",
     "start_time": "2025-06-15T21:35:24.143929Z"
    }
   },
   "cell_type": "code",
   "source": [
    "'''3.5 NOTEARS'''\n",
    "\n",
    "w = cd.notears_linear(df.values, lambda1= 0.5, loss_type='logistic')\n",
    "print(w)\n",
    "print(type(w))\n",
    "NOTEARS_adjacency_matrix_ = pd.DataFrame(w, index=node_names, columns=node_names)\n",
    "# print(NOTEARS_adjacency_matrix_)\n",
    "graph_dot_NOTEARS = make_dot(w, labels=node_names)\n",
    "graph_dot_NOTEARS.format = 'png'\n",
    "output_path = graph_dot_NOTEARS.render(filename='NOTEARS',directory='.',cleanup=True)\n",
    "\n"
   ],
   "id": "44b3d406aff0377e",
   "outputs": [
    {
     "name": "stderr",
     "output_type": "stream",
     "text": [
      "/Users/alextang/Documents/Dev/Py_Projects/.conda_env/lib/python3.10/site-packages/scipy/linalg/_matfuncs.py:373: RuntimeWarning: overflow encountered in matmul\n",
      "  eAw = eAw @ eAw\n",
      "/Users/alextang/Documents/Dev/Py_Projects/XAI/causal/causal_discovery.py:115: RuntimeWarning: invalid value encountered in multiply\n",
      "  G_h = E.T * W * 2\n"
     ]
    },
    {
     "name": "stdout",
     "output_type": "stream",
     "text": [
      "[[ 0.00000000e+00  2.18422554e+02  0.00000000e+00  0.00000000e+00\n",
      "   0.00000000e+00  0.00000000e+00  0.00000000e+00  0.00000000e+00]\n",
      " [ 0.00000000e+00  0.00000000e+00  0.00000000e+00  0.00000000e+00\n",
      "   0.00000000e+00  0.00000000e+00  0.00000000e+00  0.00000000e+00]\n",
      " [ 6.76703577e+02  8.73079275e+00  0.00000000e+00 -9.41335933e-01\n",
      "  -6.08063410e-01  0.00000000e+00 -1.47131015e+00  0.00000000e+00]\n",
      " [ 6.96749484e+00  4.48506213e-01  4.63757890e+00  0.00000000e+00\n",
      "   0.00000000e+00  0.00000000e+00  0.00000000e+00  0.00000000e+00]\n",
      " [ 6.53292768e+00  4.18115529e-01  4.71956083e+00  0.00000000e+00\n",
      "   0.00000000e+00  0.00000000e+00  0.00000000e+00  0.00000000e+00]\n",
      " [ 5.23799867e+00  3.37890919e-01  4.16918919e+00  0.00000000e+00\n",
      "   0.00000000e+00  0.00000000e+00  0.00000000e+00  0.00000000e+00]\n",
      " [ 7.58280708e+00  4.90518701e-01  4.21249532e+00  0.00000000e+00\n",
      "   0.00000000e+00  0.00000000e+00  0.00000000e+00  0.00000000e+00]\n",
      " [ 9.97381261e-01  0.00000000e+00  6.00413518e-01  0.00000000e+00\n",
      "   0.00000000e+00  0.00000000e+00  0.00000000e+00  0.00000000e+00]]\n",
      "<class 'numpy.ndarray'>\n"
     ]
    }
   ],
   "execution_count": 43
  },
  {
   "metadata": {
    "ExecuteTime": {
     "end_time": "2025-06-15T21:35:53.214001Z",
     "start_time": "2025-06-15T21:35:53.151606Z"
    }
   },
   "cell_type": "code",
   "source": [
    "# Estimand and Estimate\n",
    "import statsmodels.api as sm\n",
    "\n",
    "# Using the Gaussian Family for multi class\n",
    "method_params_gaussian = {\n",
    "    \"glm_family\": sm.families.Gaussian()\n",
    "}\n",
    "\n",
    "# Using binomial for binary class\n",
    "method_params_binomial = {\n",
    "    \"glm_family\": sm.families.Binomial()\n",
    "}\n",
    "\n",
    "\n",
    "# Method\n",
    "method_name = {\n",
    "    'regression':'backdoor.generalized_linear_model',\n",
    "    'distance_matching': 'backdoor.distance_matching',\n",
    "    'propensity_score_stratification': 'backdoor.propensity_score_stratification',\n",
    "    'propensity_score_matching': 'backdoor.propensity_score_matching',\n",
    "    'frontdoor_regression': 'frontdoor.linear_regression'\n",
    "}\n",
    "\n",
    "graph = utils.make_graph(NOTEARS_adjacency_matrix_, labels=node_names)\n",
    "\n",
    "causal_model, causal_estimand, causal_estimate = ide.estimate(\n",
    "    df,\n",
    "    treatment = 'messageID',\n",
    "    outcome = 'class',\n",
    "    method_params = method_params_binomial,\n",
    "    method_name = 'frontdoor.linear_regression',\n",
    "    graph = graph,\n",
    ")\n",
    "print(causal_estimand)\n",
    "print('*-'*50)\n",
    "print(causal_estimate)\n",
    "graph_dot = utils.str_to_dot(graph.source)"
   ],
   "id": "b1e54c5dd4be42f7",
   "outputs": [
    {
     "name": "stdout",
     "output_type": "stream",
     "text": [
      "No directed path from ['messageID'] to ['class'] in the causal graph.\n",
      "Causal effect is zero.\n",
      "*-*-*-*-*-*-*-*-*-*-*-*-*-*-*-*-*-*-*-*-*-*-*-*-*-*-*-*-*-*-*-*-*-*-*-*-*-*-*-*-*-*-*-*-*-*-*-*-*-*-\n",
      "*** Causal Estimate ***\n",
      "\n",
      "## Identified estimand\n",
      "No directed path from ['messageID'] to ['class'] in the causal graph.\n",
      "Causal effect is zero.\n",
      "## Realized estimand\n",
      "None\n",
      "## Estimate\n",
      "Mean value: 0\n",
      "\n"
     ]
    }
   ],
   "execution_count": 44
  },
  {
   "metadata": {
    "ExecuteTime": {
     "end_time": "2025-06-15T21:35:53.426445Z",
     "start_time": "2025-06-15T21:35:53.234187Z"
    }
   },
   "cell_type": "code",
   "source": [
    "# Refute estimand\n",
    "refuter_list = ['bootstrap_refuter', \"data_subset_refuter\", 'dummy_outcome_refuter', 'placebo_treatment_refuter', 'random_common_cause']\n",
    "refuter_method = 'bootstrap_refuter'\n",
    "\n",
    "refuter_results = ref.causal_refuter(causal_model, causal_estimand, causal_estimate, refuter_method)\n",
    "print(refuter_results)"
   ],
   "id": "28bb440a37c45172",
   "outputs": [
    {
     "ename": "AttributeError",
     "evalue": "'CausalEstimate' object has no attribute 'estimator'",
     "output_type": "error",
     "traceback": [
      "\u001B[0;31m---------------------------------------------------------------------------\u001B[0m",
      "\u001B[0;31mAttributeError\u001B[0m                            Traceback (most recent call last)",
      "Cell \u001B[0;32mIn[45], line 5\u001B[0m\n\u001B[1;32m      2\u001B[0m refuter_list \u001B[38;5;241m=\u001B[39m [\u001B[38;5;124m'\u001B[39m\u001B[38;5;124mbootstrap_refuter\u001B[39m\u001B[38;5;124m'\u001B[39m, \u001B[38;5;124m\"\u001B[39m\u001B[38;5;124mdata_subset_refuter\u001B[39m\u001B[38;5;124m\"\u001B[39m, \u001B[38;5;124m'\u001B[39m\u001B[38;5;124mdummy_outcome_refuter\u001B[39m\u001B[38;5;124m'\u001B[39m, \u001B[38;5;124m'\u001B[39m\u001B[38;5;124mplacebo_treatment_refuter\u001B[39m\u001B[38;5;124m'\u001B[39m, \u001B[38;5;124m'\u001B[39m\u001B[38;5;124mrandom_common_cause\u001B[39m\u001B[38;5;124m'\u001B[39m]\n\u001B[1;32m      3\u001B[0m refuter_method \u001B[38;5;241m=\u001B[39m \u001B[38;5;124m'\u001B[39m\u001B[38;5;124mbootstrap_refuter\u001B[39m\u001B[38;5;124m'\u001B[39m\n\u001B[0;32m----> 5\u001B[0m refuter_results \u001B[38;5;241m=\u001B[39m \u001B[43mref\u001B[49m\u001B[38;5;241;43m.\u001B[39;49m\u001B[43mcausal_refuter\u001B[49m\u001B[43m(\u001B[49m\u001B[43mcausal_model\u001B[49m\u001B[43m,\u001B[49m\u001B[43m \u001B[49m\u001B[43mcausal_estimand\u001B[49m\u001B[43m,\u001B[49m\u001B[43m \u001B[49m\u001B[43mcausal_estimate\u001B[49m\u001B[43m,\u001B[49m\u001B[43m \u001B[49m\u001B[43mrefuter_method\u001B[49m\u001B[43m)\u001B[49m\n\u001B[1;32m      6\u001B[0m \u001B[38;5;28mprint\u001B[39m(refuter_results)\n",
      "File \u001B[0;32m~/Documents/Dev/Py_Projects/XAI/causal/refuter.py:11\u001B[0m, in \u001B[0;36mcausal_refuter\u001B[0;34m(model, estimand, estimate, method_name)\u001B[0m\n\u001B[1;32m      4\u001B[0m \u001B[38;5;28;01mdef\u001B[39;00m\u001B[38;5;250m \u001B[39m\u001B[38;5;21mcausal_refuter\u001B[39m(\n\u001B[1;32m      5\u001B[0m         model,\n\u001B[1;32m      6\u001B[0m         estimand,\n\u001B[1;32m      7\u001B[0m         estimate,\n\u001B[1;32m      8\u001B[0m         method_name\n\u001B[1;32m      9\u001B[0m ):\n\u001B[1;32m     10\u001B[0m     \u001B[38;5;28;01mif\u001B[39;00m method_name \u001B[38;5;241m==\u001B[39m \u001B[38;5;124m'\u001B[39m\u001B[38;5;124mbootstrap_refuter\u001B[39m\u001B[38;5;124m'\u001B[39m:\n\u001B[0;32m---> 11\u001B[0m         ref \u001B[38;5;241m=\u001B[39m \u001B[43mmodel\u001B[49m\u001B[38;5;241;43m.\u001B[39;49m\u001B[43mrefute_estimate\u001B[49m\u001B[43m(\u001B[49m\n\u001B[1;32m     12\u001B[0m \u001B[43m            \u001B[49m\u001B[43mestimand\u001B[49m\u001B[43m,\u001B[49m\n\u001B[1;32m     13\u001B[0m \u001B[43m            \u001B[49m\u001B[43mestimate\u001B[49m\u001B[43m,\u001B[49m\n\u001B[1;32m     14\u001B[0m \u001B[43m            \u001B[49m\u001B[43mmethod_name\u001B[49m\u001B[38;5;241;43m=\u001B[39;49m\u001B[43mmethod_name\u001B[49m\u001B[43m,\u001B[49m\n\u001B[1;32m     15\u001B[0m \u001B[43m            \u001B[49m\u001B[43mnum_simulations\u001B[49m\u001B[38;5;241;43m=\u001B[39;49m\u001B[38;5;241;43m200\u001B[39;49m\u001B[43m,\u001B[49m\n\u001B[1;32m     16\u001B[0m \u001B[43m            \u001B[49m\u001B[43mrandom_seed\u001B[49m\u001B[38;5;241;43m=\u001B[39;49m\u001B[38;5;241;43m42\u001B[39;49m\u001B[43m,\u001B[49m\n\u001B[1;32m     17\u001B[0m \u001B[43m            \u001B[49m\u001B[43msample_size\u001B[49m\u001B[38;5;241;43m=\u001B[39;49m\u001B[38;5;241;43m500\u001B[39;49m\u001B[43m,\u001B[49m\n\u001B[1;32m     18\u001B[0m \u001B[43m            \u001B[49m\u001B[43mshow_progress_bar\u001B[49m\u001B[38;5;241;43m=\u001B[39;49m\u001B[38;5;28;43;01mFalse\u001B[39;49;00m\u001B[43m,\u001B[49m\n\u001B[1;32m     19\u001B[0m \u001B[43m            \u001B[49m\u001B[43mn_jobs\u001B[49m\u001B[38;5;241;43m=\u001B[39;49m\u001B[38;5;241;43m-\u001B[39;49m\u001B[38;5;241;43m1\u001B[39;49m\n\u001B[1;32m     20\u001B[0m \u001B[43m        \u001B[49m\u001B[43m)\u001B[49m\n\u001B[1;32m     21\u001B[0m         \u001B[38;5;66;03m# print(ref)\u001B[39;00m\n\u001B[1;32m     22\u001B[0m         \u001B[38;5;28;01mreturn\u001B[39;00m ref\n",
      "File \u001B[0;32m~/Documents/Dev/Py_Projects/.conda_env/lib/python3.10/site-packages/dowhy/causal_model.py:460\u001B[0m, in \u001B[0;36mCausalModel.refute_estimate\u001B[0;34m(self, estimand, estimate, method_name, show_progress_bar, **kwargs)\u001B[0m\n\u001B[1;32m    457\u001B[0m     refuter_class \u001B[38;5;241m=\u001B[39m causal_refuters\u001B[38;5;241m.\u001B[39mget_class_object(method_name)\n\u001B[1;32m    459\u001B[0m refuter \u001B[38;5;241m=\u001B[39m refuter_class(\u001B[38;5;28mself\u001B[39m\u001B[38;5;241m.\u001B[39m_data, identified_estimand\u001B[38;5;241m=\u001B[39mestimand, estimate\u001B[38;5;241m=\u001B[39mestimate, \u001B[38;5;241m*\u001B[39m\u001B[38;5;241m*\u001B[39mkwargs)\n\u001B[0;32m--> 460\u001B[0m res \u001B[38;5;241m=\u001B[39m \u001B[43mrefuter\u001B[49m\u001B[38;5;241;43m.\u001B[39;49m\u001B[43mrefute_estimate\u001B[49m\u001B[43m(\u001B[49m\u001B[43mshow_progress_bar\u001B[49m\u001B[43m)\u001B[49m\n\u001B[1;32m    461\u001B[0m \u001B[38;5;28;01mreturn\u001B[39;00m res\n",
      "File \u001B[0;32m~/Documents/Dev/Py_Projects/.conda_env/lib/python3.10/site-packages/dowhy/causal_refuters/bootstrap_refuter.py:77\u001B[0m, in \u001B[0;36mBootstrapRefuter.refute_estimate\u001B[0;34m(self, show_progress_bar, *args, **kwargs)\u001B[0m\n\u001B[1;32m     76\u001B[0m \u001B[38;5;28;01mdef\u001B[39;00m\u001B[38;5;250m \u001B[39m\u001B[38;5;21mrefute_estimate\u001B[39m(\u001B[38;5;28mself\u001B[39m, show_progress_bar: \u001B[38;5;28mbool\u001B[39m \u001B[38;5;241m=\u001B[39m \u001B[38;5;28;01mFalse\u001B[39;00m, \u001B[38;5;241m*\u001B[39margs, \u001B[38;5;241m*\u001B[39m\u001B[38;5;241m*\u001B[39mkwargs):\n\u001B[0;32m---> 77\u001B[0m     refute \u001B[38;5;241m=\u001B[39m \u001B[43mrefute_bootstrap\u001B[49m\u001B[43m(\u001B[49m\n\u001B[1;32m     78\u001B[0m \u001B[43m        \u001B[49m\u001B[43mdata\u001B[49m\u001B[38;5;241;43m=\u001B[39;49m\u001B[38;5;28;43mself\u001B[39;49m\u001B[38;5;241;43m.\u001B[39;49m\u001B[43m_data\u001B[49m\u001B[43m,\u001B[49m\n\u001B[1;32m     79\u001B[0m \u001B[43m        \u001B[49m\u001B[43mtarget_estimand\u001B[49m\u001B[38;5;241;43m=\u001B[39;49m\u001B[38;5;28;43mself\u001B[39;49m\u001B[38;5;241;43m.\u001B[39;49m\u001B[43m_target_estimand\u001B[49m\u001B[43m,\u001B[49m\n\u001B[1;32m     80\u001B[0m \u001B[43m        \u001B[49m\u001B[43mestimate\u001B[49m\u001B[38;5;241;43m=\u001B[39;49m\u001B[38;5;28;43mself\u001B[39;49m\u001B[38;5;241;43m.\u001B[39;49m\u001B[43m_estimate\u001B[49m\u001B[43m,\u001B[49m\n\u001B[1;32m     81\u001B[0m \u001B[43m        \u001B[49m\u001B[43mnum_simulations\u001B[49m\u001B[38;5;241;43m=\u001B[39;49m\u001B[38;5;28;43mself\u001B[39;49m\u001B[38;5;241;43m.\u001B[39;49m\u001B[43m_num_simulations\u001B[49m\u001B[43m,\u001B[49m\n\u001B[1;32m     82\u001B[0m \u001B[43m        \u001B[49m\u001B[43mrandom_state\u001B[49m\u001B[38;5;241;43m=\u001B[39;49m\u001B[38;5;28;43mself\u001B[39;49m\u001B[38;5;241;43m.\u001B[39;49m\u001B[43m_random_state\u001B[49m\u001B[43m,\u001B[49m\n\u001B[1;32m     83\u001B[0m \u001B[43m        \u001B[49m\u001B[43msample_size\u001B[49m\u001B[38;5;241;43m=\u001B[39;49m\u001B[38;5;28;43mself\u001B[39;49m\u001B[38;5;241;43m.\u001B[39;49m\u001B[43m_sample_size\u001B[49m\u001B[43m,\u001B[49m\n\u001B[1;32m     84\u001B[0m \u001B[43m        \u001B[49m\u001B[43mrequired_variables\u001B[49m\u001B[38;5;241;43m=\u001B[39;49m\u001B[38;5;28;43mself\u001B[39;49m\u001B[38;5;241;43m.\u001B[39;49m\u001B[43m_required_variables\u001B[49m\u001B[43m,\u001B[49m\n\u001B[1;32m     85\u001B[0m \u001B[43m        \u001B[49m\u001B[43mnoise\u001B[49m\u001B[38;5;241;43m=\u001B[39;49m\u001B[38;5;28;43mself\u001B[39;49m\u001B[38;5;241;43m.\u001B[39;49m\u001B[43m_noise\u001B[49m\u001B[43m,\u001B[49m\n\u001B[1;32m     86\u001B[0m \u001B[43m        \u001B[49m\u001B[43mprobability_of_change\u001B[49m\u001B[38;5;241;43m=\u001B[39;49m\u001B[38;5;28;43mself\u001B[39;49m\u001B[38;5;241;43m.\u001B[39;49m\u001B[43m_probability_of_change\u001B[49m\u001B[43m,\u001B[49m\n\u001B[1;32m     87\u001B[0m \u001B[43m        \u001B[49m\u001B[43mshow_progress_bar\u001B[49m\u001B[38;5;241;43m=\u001B[39;49m\u001B[43mshow_progress_bar\u001B[49m\u001B[43m,\u001B[49m\n\u001B[1;32m     88\u001B[0m \u001B[43m        \u001B[49m\u001B[43mn_jobs\u001B[49m\u001B[38;5;241;43m=\u001B[39;49m\u001B[38;5;28;43mself\u001B[39;49m\u001B[38;5;241;43m.\u001B[39;49m\u001B[43m_n_jobs\u001B[49m\u001B[43m,\u001B[49m\n\u001B[1;32m     89\u001B[0m \u001B[43m        \u001B[49m\u001B[43mverbose\u001B[49m\u001B[38;5;241;43m=\u001B[39;49m\u001B[38;5;28;43mself\u001B[39;49m\u001B[38;5;241;43m.\u001B[39;49m\u001B[43m_verbose\u001B[49m\u001B[43m,\u001B[49m\n\u001B[1;32m     90\u001B[0m \u001B[43m    \u001B[49m\u001B[43m)\u001B[49m\n\u001B[1;32m     91\u001B[0m     refute\u001B[38;5;241m.\u001B[39madd_refuter(\u001B[38;5;28mself\u001B[39m)\n\u001B[1;32m     92\u001B[0m     \u001B[38;5;28;01mreturn\u001B[39;00m refute\n",
      "File \u001B[0;32m~/Documents/Dev/Py_Projects/.conda_env/lib/python3.10/site-packages/dowhy/causal_refuters/bootstrap_refuter.py:196\u001B[0m, in \u001B[0;36mrefute_bootstrap\u001B[0;34m(data, target_estimand, estimate, num_simulations, random_state, sample_size, required_variables, noise, probability_of_change, show_progress_bar, n_jobs, verbose, **_)\u001B[0m\n\u001B[1;32m    189\u001B[0m \u001B[38;5;28;01mif\u001B[39;00m sample_size \u001B[38;5;129;01mis\u001B[39;00m \u001B[38;5;28;01mNone\u001B[39;00m:\n\u001B[1;32m    190\u001B[0m     sample_size \u001B[38;5;241m=\u001B[39m \u001B[38;5;28mlen\u001B[39m(data)\n\u001B[1;32m    192\u001B[0m chosen_variables \u001B[38;5;241m=\u001B[39m choose_variables(\n\u001B[1;32m    193\u001B[0m     required_variables,\n\u001B[1;32m    194\u001B[0m     target_estimand\u001B[38;5;241m.\u001B[39mget_backdoor_variables()\n\u001B[1;32m    195\u001B[0m     \u001B[38;5;241m+\u001B[39m target_estimand\u001B[38;5;241m.\u001B[39minstrumental_variables\n\u001B[0;32m--> 196\u001B[0m     \u001B[38;5;241m+\u001B[39m \u001B[43mestimate\u001B[49m\u001B[38;5;241;43m.\u001B[39;49m\u001B[43mestimator\u001B[49m\u001B[38;5;241m.\u001B[39m_effect_modifier_names,\n\u001B[1;32m    197\u001B[0m )\n\u001B[1;32m    199\u001B[0m \u001B[38;5;28;01mif\u001B[39;00m chosen_variables \u001B[38;5;129;01mis\u001B[39;00m \u001B[38;5;28;01mNone\u001B[39;00m:\n\u001B[1;32m    200\u001B[0m     logger\u001B[38;5;241m.\u001B[39minfo(\u001B[38;5;124m\"\u001B[39m\u001B[38;5;124mINFO: There are no chosen variables\u001B[39m\u001B[38;5;124m\"\u001B[39m)\n",
      "\u001B[0;31mAttributeError\u001B[0m: 'CausalEstimate' object has no attribute 'estimator'"
     ]
    }
   ],
   "execution_count": 45
  }
 ],
 "metadata": {
  "kernelspec": {
   "display_name": "Python 3 (ipykernel)",
   "language": "python",
   "name": "python3"
  },
  "language_info": {
   "codemirror_mode": {
    "name": "ipython",
    "version": 3
   },
   "file_extension": ".py",
   "mimetype": "text/x-python",
   "name": "python",
   "nbconvert_exporter": "python",
   "pygments_lexer": "ipython3",
   "version": "3.10.13"
  }
 },
 "nbformat": 4,
 "nbformat_minor": 5
}
